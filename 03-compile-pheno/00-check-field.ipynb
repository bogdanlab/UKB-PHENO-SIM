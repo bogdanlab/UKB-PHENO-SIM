{
 "cells": [
  {
   "cell_type": "code",
   "execution_count": 1,
   "id": "ba892a08-668b-43c3-9f4e-d98c7d4ed264",
   "metadata": {},
   "outputs": [],
   "source": [
    "from itertools import compress\n",
    "import pandas as pd\n",
    "import itertools"
   ]
  },
  {
   "cell_type": "code",
   "execution_count": 2,
   "id": "5ba31c5b-e2d9-429e-afe1-df8c3f577193",
   "metadata": {},
   "outputs": [],
   "source": [
    "filepath = '/u/home/z/ziqixu09/project-pasaniuc/phenotype/prepare-pheno-fields.R'\n",
    "field_dict = {}"
   ]
  },
  {
   "cell_type": "code",
   "execution_count": 3,
   "id": "360d1213-a66f-42e3-b19f-ebfe352bcf5f",
   "metadata": {},
   "outputs": [],
   "source": [
    "# create a dict to store all the fields we already have\n",
    "with open(filepath) as fp:\n",
    "    line = fp.readline()\n",
    "    i = 0\n",
    "    while line:\n",
    "        if \"-0.0\" in line:\n",
    "            li = line.split('\"')\n",
    "            split_li = ['-0.0' in ele for ele in li]\n",
    "            name = list(compress(li, split_li))\n",
    "            field_dict[i] = name\n",
    "        if \"-2.0\" in line:\n",
    "            li2 = line.split('\"')\n",
    "            split_li2 = ['-2.0' in ele for ele in li2]\n",
    "            name2 = list(compress(li2, split_li2))\n",
    "            field_dict[i] = name2\n",
    "        line = fp.readline()\n",
    "        i += 1"
   ]
  },
  {
   "cell_type": "code",
   "execution_count": 4,
   "id": "1bc29e3d-6d9e-4fc0-9561-24af21650066",
   "metadata": {},
   "outputs": [],
   "source": [
    "# extract all values from the dict and remove duplicates\n",
    "dict_val = list(field_dict.values())\n",
    "chain = itertools.chain(*dict_val)\n",
    "val_li = list(chain)\n",
    "val_li = list(set(val_li))"
   ]
  },
  {
   "cell_type": "code",
   "execution_count": 5,
   "id": "ecb7ae10-8af6-49a9-87cd-6d347e955b4f",
   "metadata": {},
   "outputs": [],
   "source": [
    "# read the head of two phenotype files\n",
    "hd1 = pd.read_csv(\"/u/home/z/ziqixu09/project-pasaniuc/phenotype/head1.csv\")\n",
    "hd1 = hd1.columns.values.tolist()\n",
    "hd2 = pd.read_csv(\"/u/home/z/ziqixu09/project-pasaniuc/phenotype/head2.csv\")\n",
    "hd2 = hd2.columns.values.tolist()"
   ]
  },
  {
   "cell_type": "code",
   "execution_count": 6,
   "id": "23518ea6-40fc-48bb-ae41-4d66d472efde",
   "metadata": {},
   "outputs": [],
   "source": [
    "# conbine the head of two files, check if all fields are contained\n",
    "hd = hd1 + hd2\n",
    "hd_contain1 = ['-0.0' in ele for ele in hd]\n",
    "hd_field1 = list(compress(hd, hd_contain1))\n",
    "hd_contain2 = ['-2.0' in ele for ele in hd]\n",
    "hd_field2 = list(compress(hd, hd_contain2))\n",
    "hd_pheno = hd_field1 + hd_field2\n",
    "intersection_set = set.intersection(set(val_li), set(hd_pheno))\n",
    "intersection_list = list(intersection_set)"
   ]
  },
  {
   "cell_type": "code",
   "execution_count": 7,
   "id": "11b3384d-abff-42c9-af84-14e99377d363",
   "metadata": {},
   "outputs": [],
   "source": [
    "# check separately \n",
    "# if the first phenotype file contains all the fields\n",
    "hd1_contain1 = ['-0.0' in ele for ele in hd1]\n",
    "hd1_field1 = list(compress(hd1, hd1_contain1))\n",
    "hd1_contain2 = ['-2.0' in ele for ele in hd1]\n",
    "hd1_field2 = list(compress(hd1, hd1_contain2))\n",
    "hd1_pheno = hd1_field1 + hd1_field2\n",
    "intersection_set1 = set.intersection(set(val_li), set(hd1_pheno))\n",
    "intersection_list1 = list(intersection_set1)"
   ]
  },
  {
   "cell_type": "code",
   "execution_count": 8,
   "id": "2022ae0c-bbf4-439d-bf4f-3e955a6be048",
   "metadata": {},
   "outputs": [],
   "source": [
    "# if the second phenotype file contains the fields\n",
    "hd2_contain1 = ['-0.0' in ele for ele in hd2]\n",
    "hd2_field1 = list(compress(hd2, hd2_contain1))\n",
    "hd2_contain2 = ['-2.0' in ele for ele in hd2]\n",
    "hd2_field2 = list(compress(hd2, hd2_contain2))\n",
    "hd2_pheno = hd2_field1 + hd2_field2\n",
    "intersection_set2 = set.intersection(set(val_li), set(hd2_pheno))\n",
    "intersection_list2 = list(intersection_set2)"
   ]
  },
  {
   "cell_type": "code",
   "execution_count": 9,
   "id": "902af559-18ea-4721-b1d7-80f5dcdc2bbc",
   "metadata": {},
   "outputs": [
    {
     "data": {
      "text/plain": [
       "True"
      ]
     },
     "execution_count": 9,
     "metadata": {},
     "output_type": "execute_result"
    }
   ],
   "source": [
    "# check if the hit fields in second phenotype file contains the hit fields in first phenotype file\n",
    "dup_set = set.intersection(intersection_set1, intersection_set2)\n",
    "dup_set == intersection_set1"
   ]
  },
  {
   "cell_type": "code",
   "execution_count": 29,
   "id": "a050fb8b-bbf5-427a-90ac-47754d8e7b56",
   "metadata": {},
   "outputs": [
    {
     "data": {
      "text/plain": [
       "True"
      ]
     },
     "execution_count": 29,
     "metadata": {},
     "output_type": "execute_result"
    }
   ],
   "source": [
    "# check if the original fields are all contained \n",
    "set(val_li) == intersection_set2"
   ]
  },
  {
   "cell_type": "code",
   "execution_count": 19,
   "id": "96a213ae-9c94-455e-8989-f48756b9dbd1",
   "metadata": {},
   "outputs": [],
   "source": [
    "# add for a list of logMAR traits\n",
    "li1 = [f\"5078-0.{i}\" for i in range(0, 16)]\n",
    "li2 = [f\"5078-1.{i}\" for i in range(0, 16)]\n",
    "li3 = [f\"5079-0.{i}\" for i in range(0, 16)]\n",
    "li4= [f\"5079-1.{i}\" for i in range(0, 16)]"
   ]
  },
  {
   "cell_type": "code",
   "execution_count": 28,
   "id": "afee764f-583a-4c2a-a1e4-5ac2493584d9",
   "metadata": {},
   "outputs": [],
   "source": [
    "# output the hit fields\n",
    "hits_li = intersection_list2 + li1+ li2+ li3 +li4\n",
    "df = pd.DataFrame(hits_li)\n",
    "df.to_csv(\"hits.csv\",index=False)"
   ]
  }
 ],
 "metadata": {
  "kernelspec": {
   "display_name": "Python 3",
   "language": "python",
   "name": "python3"
  },
  "language_info": {
   "codemirror_mode": {
    "name": "ipython",
    "version": 3
   },
   "file_extension": ".py",
   "mimetype": "text/x-python",
   "name": "python",
   "nbconvert_exporter": "python",
   "pygments_lexer": "ipython3",
   "version": "3.8.5"
  }
 },
 "nbformat": 4,
 "nbformat_minor": 5
}
