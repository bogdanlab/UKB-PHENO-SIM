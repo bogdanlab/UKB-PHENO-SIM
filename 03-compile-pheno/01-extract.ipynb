{
 "cells": [
  {
   "cell_type": "code",
   "execution_count": 1,
   "id": "e2762c9f-e4c3-4341-8115-68d1cf8b6bb7",
   "metadata": {},
   "outputs": [],
   "source": [
    "import numpy as np\n",
    "import pandas as pd"
   ]
  },
  {
   "cell_type": "code",
   "execution_count": 2,
   "id": "c3324c7d-33f8-4dc1-80a1-6fca325b7c62",
   "metadata": {},
   "outputs": [],
   "source": [
    "# manage space \n",
    "from dask.distributed import Client\n",
    "import dask\n",
    "client = Client(processes=False, threads_per_worker=1, n_workers=1, memory_limit='100GB')"
   ]
  },
  {
   "cell_type": "code",
   "execution_count": 5,
   "id": "5aa7c026-4ae5-4021-a6ad-fd55f371f99c",
   "metadata": {},
   "outputs": [],
   "source": [
    "# read the hit list of all fields\n",
    "hit = pd.read_csv(\"hits.csv\")\n",
    "hit_li = hit[\"0\"].values\n",
    "hit_li = np.concatenate((['eid'], hit_li))"
   ]
  },
  {
   "cell_type": "code",
   "execution_count": 7,
   "id": "25a45c10-907d-4850-bbb5-25badd875dc3",
   "metadata": {},
   "outputs": [],
   "source": [
    "# check first phenotype field\n",
    "path1 = \"/u/project/sgss/UKBB/PRS-RESEARCH/03-compile-pheno/raw/ukb39967.enc_ukb.converted2.csv\"\n",
    "file1 = pd.read_csv(path1, usecols = hit_li, encoding = 'unicode_escape')\n",
    "file1 = file1.set_index(\"eid\")\n",
    "file1.index.name = \"eid\""
   ]
  },
  {
   "cell_type": "code",
   "execution_count": 10,
   "id": "cc7dc839-90f8-46cd-b7d5-cd95ca6748e5",
   "metadata": {},
   "outputs": [],
   "source": [
    "# check second phenotype field\n",
    "path2 = \"/u/project/sgss/UKBB/PRS-RESEARCH/03-compile-pheno/raw/ukb21970.csv\"\n",
    "col_age = \"21003-0.0\"\n",
    "col_sex = \"31-0.0\"\n",
    "col_pcs = [f\"22009-0.{i}\" for i in range(1, 41)]\n",
    "col_report_ethnic = \"21000-0.0\"\n",
    "col_id = \"eid\"\n",
    "col_dep = \"189-0.0\"\n",
    "\n",
    "cols = [col_id, col_age, col_sex, col_report_ethnic, col_dep] + col_pcs\n",
    "col_names = [\"ID\", \"AGE\", \"SEX\", \"SIRE_ID\", \"DEPRIVATION_INDEX\"] + [f\"PC{i + 1}\" for i in range(len(col_pcs))]\n",
    "\n",
    "file2 = pd.read_csv(path2, usecols = cols, encoding = 'unicode_escape')[cols]\n",
    "file2.columns = col_names\n",
    "file2 = file2.set_index(\"ID\")\n",
    "file2.index.name = \"eid\""
   ]
  },
  {
   "cell_type": "code",
   "execution_count": 12,
   "id": "576ff041-77aa-4fa4-bad9-12daa58826e0",
   "metadata": {},
   "outputs": [],
   "source": [
    "# extract the common individual ids of these two files\n",
    "# ends up 488266 indivs in total\n",
    "idx = file1.index.intersection(file2.index)\n",
    "file1 = file1.loc[idx]\n",
    "file2 = file2.loc[idx]"
   ]
  },
  {
   "cell_type": "code",
   "execution_count": 15,
   "id": "497fc86c-20f5-47de-b894-226c0751645e",
   "metadata": {},
   "outputs": [],
   "source": [
    "file1.to_csv(\"pheno.csv\", na_rep='NA')\n",
    "file2.to_csv(\"covar.csv\", na_rep='NA')"
   ]
  }
 ],
 "metadata": {
  "kernelspec": {
   "display_name": "Python 3",
   "language": "python",
   "name": "python3"
  },
  "language_info": {
   "codemirror_mode": {
    "name": "ipython",
    "version": 3
   },
   "file_extension": ".py",
   "mimetype": "text/x-python",
   "name": "python",
   "nbconvert_exporter": "python",
   "pygments_lexer": "ipython3",
   "version": "3.8.5"
  }
 },
 "nbformat": 4,
 "nbformat_minor": 5
}
