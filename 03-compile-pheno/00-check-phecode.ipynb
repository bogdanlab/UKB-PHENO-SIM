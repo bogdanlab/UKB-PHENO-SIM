{
 "cells": [
  {
   "cell_type": "code",
   "execution_count": 2,
   "id": "ba892a08-668b-43c3-9f4e-d98c7d4ed264",
   "metadata": {},
   "outputs": [],
   "source": [
    "from itertools import compress\n",
    "import pandas as pd\n",
    "import itertools"
   ]
  },
  {
   "cell_type": "code",
   "execution_count": 3,
   "id": "5ba31c5b-e2d9-429e-afe1-df8c3f577193",
   "metadata": {},
   "outputs": [],
   "source": [
    "filepath = '/u/home/z/ziqixu09/project-pasaniuc/phenotype/prepare-phecodes.R'\n",
    "field_dict = {}"
   ]
  },
  {
   "cell_type": "code",
   "execution_count": 4,
   "id": "360d1213-a66f-42e3-b19f-ebfe352bcf5f",
   "metadata": {},
   "outputs": [],
   "source": [
    "# create a dict to store all the fields we already have\n",
    "with open(filepath) as fp:\n",
    "    line = fp.readline()\n",
    "    i = 0\n",
    "    while line:\n",
    "        if \".0\" in line:\n",
    "            li = line.split('\"')\n",
    "            split_li = ['.0' in ele for ele in li]\n",
    "            name = list(compress(li, split_li))\n",
    "            field_dict[i] = name\n",
    "        if \"-1.\" in line:\n",
    "            li2 = line.split('\"')\n",
    "            split_li2 = ['-1.' in ele for ele in li2]\n",
    "            name2 = list(compress(li2, split_li2))\n",
    "            field_dict[i] = name2\n",
    "        if \"-0.\" in line:\n",
    "            li2 = line.split('\"')\n",
    "            split_li2 = ['-0.' in ele for ele in li2]\n",
    "            name2 = list(compress(li2, split_li2))\n",
    "            field_dict[i] = name2\n",
    "        line = fp.readline()\n",
    "        i += 1"
   ]
  },
  {
   "cell_type": "code",
   "execution_count": 5,
   "id": "5bf4769b-b575-4e38-a7a8-a6895e65cbed",
   "metadata": {},
   "outputs": [
    {
     "data": {
      "text/plain": [
       "{3: ['22001-0.0'],\n",
       " 6: ['.0'],\n",
       " 7: ['40002-0.'],\n",
       " 8: ['40002-1.'],\n",
       " 9: ['.0'],\n",
       " 10: ['41270-0.'],\n",
       " 11: ['41201-0.'],\n",
       " 16: ['20002-0.'],\n",
       " 17: ['20002-1.'],\n",
       " 24: ['20544-0.'],\n",
       " 29: ['.0'],\n",
       " 30: ['41271-0.']}"
      ]
     },
     "execution_count": 5,
     "metadata": {},
     "output_type": "execute_result"
    }
   ],
   "source": [
    "field_dict"
   ]
  },
  {
   "cell_type": "code",
   "execution_count": 6,
   "id": "9031f99f-4c57-45f1-b985-fb31c30de746",
   "metadata": {},
   "outputs": [
    {
     "data": {
      "text/plain": [
       "['20002-1.']"
      ]
     },
     "execution_count": 6,
     "metadata": {},
     "output_type": "execute_result"
    }
   ],
   "source": [
    "field_dict.pop(16)\n",
    "field_dict.pop(17)"
   ]
  },
  {
   "cell_type": "code",
   "execution_count": 7,
   "id": "dab1cd9e-64d8-4ebf-9778-e14e0d2333ee",
   "metadata": {},
   "outputs": [],
   "source": [
    "field1 = [f\"40001-{i}.0\" for i in range(2)]\n",
    "field2 = [f\"40002-0.{i}\" for i in range(14)]\n",
    "field3 = [f\"40002-1.{i}\" for i in range(14)]\n",
    "field4 = [f\"40006-{i}.0\" for i in range(17)]\n",
    "field5 = [f\"41270-0.{i}\" for i in range(213)]\n",
    "field6 = [f\"41201-0.{i}\" for i in range(22)]\n",
    "field7 = [f\"40013-{i}.0\" for i in range(15)]\n",
    "field8 = [f\"41271-0.{i}\" for i in range(47)]\n",
    "field9 = [\"22001-0.0\"]\n",
    "field10 = [f\"20544-0.{i}\" for i in range(17)]\n",
    "val_li = field1 + field2 + field3 + field4 + field5 + field6 + field7 + field8 + field9 + field10"
   ]
  },
  {
   "cell_type": "code",
   "execution_count": 8,
   "id": "12c153f7-1717-45e8-80ae-626f11011c3b",
   "metadata": {},
   "outputs": [
    {
     "data": {
      "text/plain": [
       "362"
      ]
     },
     "execution_count": 8,
     "metadata": {},
     "output_type": "execute_result"
    }
   ],
   "source": [
    "len(list(set(val_li)))"
   ]
  },
  {
   "cell_type": "code",
   "execution_count": 9,
   "id": "ecb7ae10-8af6-49a9-87cd-6d347e955b4f",
   "metadata": {},
   "outputs": [],
   "source": [
    "# read the head of two phenotype files\n",
    "hd1 = pd.read_csv(\"/u/home/z/ziqixu09/project-pasaniuc/phenotype/head1.csv\")\n",
    "hd1 = hd1.columns.values.tolist()\n",
    "hd2 = pd.read_csv(\"/u/home/z/ziqixu09/project-pasaniuc/phenotype/head2.csv\")\n",
    "hd2 = hd2.columns.values.tolist()"
   ]
  },
  {
   "cell_type": "code",
   "execution_count": 10,
   "id": "3f746a0f-cc21-4d8e-89a3-1433fb39d166",
   "metadata": {},
   "outputs": [
    {
     "data": {
      "text/plain": [
       "1672"
      ]
     },
     "execution_count": 10,
     "metadata": {},
     "output_type": "execute_result"
    }
   ],
   "source": [
    "len(hd1)"
   ]
  },
  {
   "cell_type": "code",
   "execution_count": 11,
   "id": "41dc0eab-5902-40f7-b94b-f7b4865ef32b",
   "metadata": {},
   "outputs": [],
   "source": [
    "check1 = set.intersection(set(val_li), set(hd2))\n",
    "check2 = set.intersection(set(val_li), set(hd1))\n",
    "hits = set(sorted(list(set(check1)) + list(set(check2))))"
   ]
  },
  {
   "cell_type": "code",
   "execution_count": 12,
   "id": "7c11e928-850a-4588-9994-0dd272071346",
   "metadata": {},
   "outputs": [
    {
     "data": {
      "text/plain": [
       "361"
      ]
     },
     "execution_count": 12,
     "metadata": {},
     "output_type": "execute_result"
    }
   ],
   "source": [
    "len(hits)"
   ]
  },
  {
   "cell_type": "code",
   "execution_count": 13,
   "id": "77bb27a0-4c43-4730-9cd1-9bf3d7a2c885",
   "metadata": {},
   "outputs": [
    {
     "data": {
      "text/plain": [
       "False"
      ]
     },
     "execution_count": 13,
     "metadata": {},
     "output_type": "execute_result"
    }
   ],
   "source": [
    "# check if every hit is contained in head2\n",
    "dup_set = set.intersection(check1, check2)\n",
    "dup_set == check2"
   ]
  },
  {
   "cell_type": "code",
   "execution_count": 14,
   "id": "0c81d7b6-48e9-4a89-8d07-f9479313c520",
   "metadata": {},
   "outputs": [],
   "source": [
    "df = pd.DataFrame(hits)\n",
    "df.to_csv(\"phecode_hits.csv\",index=False)"
   ]
  },
  {
   "cell_type": "code",
   "execution_count": null,
   "id": "fad182bc-a3a6-4751-b69a-576b91cc040b",
   "metadata": {},
   "outputs": [],
   "source": []
  }
 ],
 "metadata": {
  "kernelspec": {
   "display_name": "Python 3",
   "language": "python",
   "name": "python3"
  },
  "language_info": {
   "codemirror_mode": {
    "name": "ipython",
    "version": 3
   },
   "file_extension": ".py",
   "mimetype": "text/x-python",
   "name": "python",
   "nbconvert_exporter": "python",
   "pygments_lexer": "ipython3",
   "version": "3.9.1"
  }
 },
 "nbformat": 4,
 "nbformat_minor": 5
}
