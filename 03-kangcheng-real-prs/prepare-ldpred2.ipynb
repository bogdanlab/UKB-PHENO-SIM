{
 "cells": [
  {
   "cell_type": "code",
   "execution_count": 1,
   "id": "cbec215c-e90f-4852-819f-4b0688bd0728",
   "metadata": {},
   "outputs": [],
   "source": [
    "%load_ext autoreload\n",
    "%autoreload 2\n",
    "%load_ext lab_black"
   ]
  },
  {
   "cell_type": "code",
   "execution_count": 2,
   "id": "a345cd58-322a-4f2b-803b-b800a2f1a089",
   "metadata": {},
   "outputs": [],
   "source": [
    "from os.path import join\n",
    "import numpy as np\n",
    "import pandas as pd\n",
    "import admix\n",
    "import matplotlib.pyplot as plt\n",
    "from os.path import join\n",
    "import submitit\n",
    "import dapgen\n",
    "from tqdm import tqdm\n",
    "import dask.array as da\n",
    "import os\n",
    "import itertools\n",
    "import admix_prs\n",
    "import statsmodels.api as sm"
   ]
  },
  {
   "cell_type": "code",
   "execution_count": 3,
   "id": "453428ac-6f23-404a-9791-a9227500d447",
   "metadata": {},
   "outputs": [],
   "source": [
    "PLINK_DIR = \"../00-compile-data/out/PLINK/all\"\n",
    "PHENO_DIR = \"../00-compile-data/out/REAL-PHENO/\"\n",
    "TRAIN_INDIV_PATH = \"../00-compile-data/out/INDIVLIST/eur_train.indiv\"\n",
    "VAL_INDIV_PATH = \"../00-compile-data/out/INDIVLIST/eur_val.indiv\""
   ]
  },
  {
   "cell_type": "code",
   "execution_count": 4,
   "id": "6fb85758-b0f3-4f05-a9ce-e73bd656f828",
   "metadata": {},
   "outputs": [],
   "source": [
    "def prepare_ldpred2(trait):\n",
    "    out_dir = f\"out/LDPRED2/{trait}\"\n",
    "\n",
    "    if not os.path.exists(out_dir):\n",
    "        os.makedirs(out_dir)\n",
    "    df_pheno = pd.read_csv(f\"{PHENO_DIR}/{trait}.raw.pheno\", sep=\"\\t\").astype(\n",
    "        {\"FID\": str, \"IID\": str}\n",
    "    )\n",
    "    df_pheno.index = df_pheno.FID + \"_\" + df_pheno.IID\n",
    "\n",
    "    df_covar = pd.read_csv(f\"{PHENO_DIR}/all.covar\", sep=\"\\t\").astype(\n",
    "        {\"FID\": str, \"IID\": str}\n",
    "    )\n",
    "    df_covar.index = df_covar.FID + \"_\" + df_covar.IID\n",
    "    covar_cols = [\"AGE\", \"SEX\"] + [f\"PC{i}\" for i in range(1, 11)]\n",
    "\n",
    "    df_pheno = pd.merge(\n",
    "        df_pheno, df_covar[covar_cols], left_index=True, right_index=True\n",
    "    )\n",
    "\n",
    "    # subset individuals (train, validation)\n",
    "    dict_indiv = {}\n",
    "    for group, path in zip([\"train\", \"validate\"], [TRAIN_INDIV_PATH, VAL_INDIV_PATH]):\n",
    "        df_tmp = pd.read_csv(path, sep=\"\\t\", header=None).astype(str)\n",
    "        dict_indiv[group] = (df_tmp.iloc[:, 0] + \"_\" + df_tmp.iloc[:, 1]).values\n",
    "\n",
    "    df_train_pheno = df_pheno.reindex(dict_indiv[\"train\"])\n",
    "    # covariates in training is coped with PC\n",
    "    # calculate residuals on the phenotype for validation set\n",
    "    df_validate_pheno = df_pheno.reindex(dict_indiv[\"validate\"])\n",
    "    resids = (\n",
    "        sm.OLS(\n",
    "            df_validate_pheno[\"PHENO\"],\n",
    "            sm.add_constant(df_validate_pheno[covar_cols]),\n",
    "            missing=\"drop\",\n",
    "        )\n",
    "        .fit()\n",
    "        .resid\n",
    "    )\n",
    "    df_validate_pheno[\"PHENO-RESIDUAL\"] = resids.reindex(df_validate_pheno.index)\n",
    "\n",
    "    df_assoc = []\n",
    "    for chrom in range(1, 23):\n",
    "        out_prefix = f\"{out_dir}/chr{chrom}\"\n",
    "        admix.tools.plink2.gwas(\n",
    "            bfile=join(PLINK_DIR, f\"chr{chrom}\"),\n",
    "            df_sample_info=df_train_pheno,\n",
    "            pheno_col=\"PHENO\",\n",
    "            covar_cols=covar_cols,\n",
    "            out_prefix=out_prefix,\n",
    "            clean_tmp_file=False if chrom == 1 else True,\n",
    "            pheno_quantile_normalize=True,\n",
    "        )\n",
    "        df_assoc.append(pd.read_csv(out_prefix + \".assoc\", delim_whitespace=True))\n",
    "        os.remove(out_prefix + \".assoc\")\n",
    "    df_assoc = pd.concat(df_assoc)\n",
    "    df_assoc.to_csv(f\"{out_dir}/assoc.gz\", sep=\"\\t\", index=False)\n",
    "\n",
    "    admix_prs.plink2_assoc_to_ldpred2(f\"{out_dir}/assoc.gz\").to_csv(\n",
    "        f\"{out_dir}/assoc.ldpred2.tsv.gz\", index=False, sep=\"\\t\"\n",
    "    )\n",
    "\n",
    "    # seperating validation phenotype\n",
    "    df_validate_pheno[[\"FID\", \"IID\", f\"PHENO-RESIDUAL\"]].to_csv(\n",
    "        f\"{out_dir}/eur_val.pheno.tsv.gz\", index=False, sep=\"\\t\"\n",
    "    )"
   ]
  },
  {
   "cell_type": "code",
   "execution_count": 5,
   "id": "65aa763f-ad9f-445d-80a2-095afae29b0f",
   "metadata": {},
   "outputs": [],
   "source": [
    "executor = submitit.SgeExecutor(folder=\"./submitit-logs\")\n",
    "\n",
    "executor.update_parameters(\n",
    "    time_min=240,\n",
    "    memory_g=30,\n",
    "    setup=[\n",
    "        \"export PATH=~/project-pasaniuc/software/miniconda3/bin:$PATH\",\n",
    "        \"export PYTHONNOUSERSITE=True\",\n",
    "    ],\n",
    ")\n",
    "trait_list = [\"height\", \"bmi\", \"cholesterol\", \"hdl_cholesterol\", \"ldl_direct\"]\n",
    "jobs = executor.map_array(prepare_ldpred2, trait_list)"
   ]
  }
 ],
 "metadata": {
  "kernelspec": {
   "display_name": "Python 3",
   "language": "python",
   "name": "python3"
  },
  "language_info": {
   "codemirror_mode": {
    "name": "ipython",
    "version": 3
   },
   "file_extension": ".py",
   "mimetype": "text/x-python",
   "name": "python",
   "nbconvert_exporter": "python",
   "pygments_lexer": "ipython3",
   "version": "3.8.5"
  }
 },
 "nbformat": 4,
 "nbformat_minor": 5
}
