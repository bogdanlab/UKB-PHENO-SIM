{
 "cells": [
  {
   "cell_type": "markdown",
   "id": "cecc79db-4a3c-4634-812e-273b29f36d5d",
   "metadata": {},
   "source": [
    "# Perform prediction for all the individuals"
   ]
  },
  {
   "cell_type": "code",
   "execution_count": 1,
   "id": "5b6d5979-39f2-4ab7-a68c-409ebdf39229",
   "metadata": {},
   "outputs": [],
   "source": [
    "%load_ext autoreload\n",
    "%autoreload 2\n",
    "%load_ext lab_black"
   ]
  },
  {
   "cell_type": "code",
   "execution_count": 2,
   "id": "bc1ae419-9b5e-4593-96b4-683be857a8bb",
   "metadata": {},
   "outputs": [],
   "source": [
    "import dapgen\n",
    "from os.path import join\n",
    "import pandas as pd\n",
    "import numpy as np\n",
    "import glob\n",
    "import submitit\n",
    "import subprocess"
   ]
  },
  {
   "cell_type": "code",
   "execution_count": 3,
   "id": "bc02ccec-d68e-46ea-ad2d-3388faa24767",
   "metadata": {},
   "outputs": [],
   "source": [
    "DATA_DIR = \"/u/project/sgss/UKBB/PRS-RESEARCH/DATA\"\n",
    "PLINK_DIR = join(DATA_DIR, \"PLINK\")\n",
    "PHENO_DIR = join(DATA_DIR, \"REAL-PHENO\")\n",
    "WEIGHTS_DIR = \"out/PRS-WEIGHTS/\"\n",
    "SCORE_DIR = \"out/PRS-SCORE/\""
   ]
  },
  {
   "cell_type": "code",
   "execution_count": 4,
   "id": "06ee607a-17e2-43e4-9ed7-f288a124c79f",
   "metadata": {},
   "outputs": [],
   "source": [
    "# def submit_summarize(trait):\n",
    "\n",
    "#     weights_path = join(WEIGHTS_DIR, trait, f\"{trait}.weight.tsv.gz\")\n",
    "#     df_weights = pd.read_csv(weights_path, sep=\"\\t\").rename(\n",
    "#         columns={\"CHR\": \"CHROM\", \"A1\": \"ALT\", \"A2\": \"REF\"}\n",
    "#     )\n",
    "#     weight_cols = [col for col in df_weights.columns if col.startswith(\"SAMPLE\")]\n",
    "#     df_score, df_snp = dapgen.score(\n",
    "#         plink_path=PLINK_DIR, df_weight=df_weights, weight_cols=weight_cols, memory=50\n",
    "#     )\n",
    "#     df_summary = pd.DataFrame(\n",
    "#         {\"MEAN\": df_score.mean(axis=1), \"SD\": df_score.std(axis=1)}\n",
    "#     )\n",
    "#     q_list = np.linspace(0.05, 0.95, 19)\n",
    "#     df_quantile = df_score.quantile(q=q_list, axis=1).T\n",
    "#     df_quantile.columns = [f\"QUANTILE_{int(q * 100)}\" for q in q_list]\n",
    "#     df_summary = pd.merge(df_summary, df_quantile, left_index=True, right_index=True)\n",
    "#     df_summary.to_csv(f\"out/PREDICTION/{trait}.tsv.gz\", sep=\"\\t\", float_format=\"%.5f\")"
   ]
  },
  {
   "cell_type": "code",
   "execution_count": 5,
   "id": "97b4031f-4389-453e-a62b-5515451d416e",
   "metadata": {},
   "outputs": [],
   "source": [
    "def submit_summarize(trait):\n",
    "\n",
    "    weights_path = join(WEIGHTS_DIR, trait, f\"{trait}.weight.tsv.gz\")\n",
    "    cmds = [\n",
    "        \"dapgen score\",\n",
    "        f\"--plink {PLINK_DIR}\",\n",
    "        f\"--weights {join(WEIGHTS_DIR, trait, f'{trait}.weight.tsv.gz')}\",\n",
    "        f\"--out {join(SCORE_DIR, f'{trait}.score.tsv')}\",\n",
    "        \"--chrom-col CHR --alt-col A1 --ref-col A2\",\n",
    "        \"--center True\",\n",
    "        \"--memory 40\",\n",
    "    ]\n",
    "    subprocess.check_call(\" \".join(cmds), shell=True)\n",
    "    df_score = pd.read_csv(\n",
    "        join(SCORE_DIR, f\"{trait}.score.tsv.gz\"), sep=\"\\t\", index_col=0\n",
    "    )\n",
    "    df_summary = pd.DataFrame(\n",
    "        {\"MEAN\": df_score.mean(axis=1), \"SD\": df_score.std(axis=1)}\n",
    "    )\n",
    "    q_list = np.linspace(0.05, 0.95, 19)\n",
    "    df_quantile = df_score.quantile(q=q_list, axis=1).T\n",
    "    df_quantile.columns = [f\"QUANTILE_{int(q * 100)}\" for q in q_list]\n",
    "    df_summary = pd.merge(df_summary, df_quantile, left_index=True, right_index=True)\n",
    "    df_summary.to_csv(\n",
    "        join(SCORE_DIR, f\"{trait}.score_summary.tsv.gz\"),\n",
    "        sep=\"\\t\",\n",
    "        float_format=\"%.6f\",\n",
    "    )"
   ]
  },
  {
   "cell_type": "code",
   "execution_count": 6,
   "id": "ef18bba8-fa3a-4ff9-a59f-d3bf480c592b",
   "metadata": {},
   "outputs": [
    {
     "data": {
      "text/plain": [
       "['height', 'bmi', 'cholesterol', 'hdl_cholesterol', 'ldl_direct']"
      ]
     },
     "execution_count": 6,
     "metadata": {},
     "output_type": "execute_result"
    }
   ],
   "source": [
    "trait_list = [p.split(\"/\")[-1] for p in glob.glob(\"out/PRS-WEIGHTS/*\")]\n",
    "trait_list"
   ]
  },
  {
   "cell_type": "code",
   "execution_count": 7,
   "id": "5ac47d8c-ae7e-4e24-8780-540799d0b744",
   "metadata": {},
   "outputs": [],
   "source": [
    "executor = submitit.SgeExecutor(folder=\"./submitit-logs\")\n",
    "\n",
    "executor.update_parameters(\n",
    "    time_min=240,\n",
    "    memory_g=60,\n",
    "    queue=\"highp\",\n",
    "    setup=[\n",
    "        \"export PATH=~/project-pasaniuc/software/miniconda3/bin:$PATH\",\n",
    "        \"export PYTHONNOUSERSITE=True\",\n",
    "    ],\n",
    ")\n",
    "\n",
    "jobs = executor.map_array(submit_summarize, trait_list)"
   ]
  }
 ],
 "metadata": {
  "kernelspec": {
   "display_name": "Python 3",
   "language": "python",
   "name": "python3"
  },
  "language_info": {
   "codemirror_mode": {
    "name": "ipython",
    "version": 3
   },
   "file_extension": ".py",
   "mimetype": "text/x-python",
   "name": "python",
   "nbconvert_exporter": "python",
   "pygments_lexer": "ipython3",
   "version": "3.8.5"
  }
 },
 "nbformat": 4,
 "nbformat_minor": 5
}
