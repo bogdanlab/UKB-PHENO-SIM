{
 "cells": [
  {
   "cell_type": "markdown",
   "id": "f9ee3614-77d7-4352-9595-ebf1603c0a37",
   "metadata": {},
   "source": [
    "# Phenotype simulation from real genotypes"
   ]
  },
  {
   "cell_type": "code",
   "execution_count": 1,
   "id": "9cd97cab-8883-4507-b7f0-8a381e2a3d93",
   "metadata": {},
   "outputs": [],
   "source": [
    "%load_ext autoreload\n",
    "%autoreload 2\n",
    "%load_ext lab_black"
   ]
  },
  {
   "cell_type": "code",
   "execution_count": 2,
   "id": "6e4fc08c-5156-4311-b59d-cc6b41238cc8",
   "metadata": {},
   "outputs": [],
   "source": [
    "from os.path import join\n",
    "import numpy as np\n",
    "import pandas as pd\n",
    "import admix\n",
    "import matplotlib.pyplot as plt\n",
    "from os.path import join\n",
    "import submitit\n",
    "import dapgen\n",
    "from tqdm import tqdm\n",
    "import dask.array as da\n",
    "import os\n",
    "import itertools\n",
    "import utils\n",
    "import admix_prs"
   ]
  },
  {
   "cell_type": "code",
   "execution_count": 3,
   "id": "884bba6f-cdfe-42c3-b213-62f5cf6aeaaa",
   "metadata": {},
   "outputs": [],
   "source": [
    "PLINK_DIR = \"../00-compile-data/out/PLINK/all\"\n",
    "N_SIM = 100\n",
    "TRAIN_INDIV_PATH = \"../00-compile-data/out/INDIVLIST/eur_train.indiv\"\n",
    "VAL_INDIV_PATH = \"../00-compile-data/out/INDIVLIST/eur_val.indiv\"\n",
    "bfile_list = [join(PLINK_DIR, f\"chr{chrom}\") for chrom in range(1, 23)]"
   ]
  },
  {
   "cell_type": "code",
   "execution_count": 4,
   "id": "35ab5867-f466-4c0a-93d9-e8d14e03ffa7",
   "metadata": {},
   "outputs": [],
   "source": [
    "df_params = pd.DataFrame(\n",
    "    [\n",
    "        params\n",
    "        for params in itertools.product(\n",
    "            [0.05, 0.25],\n",
    "            [0.001, 0.01],\n",
    "            [\"mafukb\", \"uniform\", \"gcta\"],\n",
    "        )\n",
    "    ],\n",
    "    columns=[\"hsq\", \"pcausal\", \"hermodel\"],\n",
    ")\n",
    "\n",
    "df_params[\"name\"] = df_params.apply(\n",
    "    lambda r: f\"hsq-{r.hsq}-pcausal-{r.pcausal}-hermodel-{r.hermodel}\", axis=1\n",
    ")"
   ]
  },
  {
   "cell_type": "markdown",
   "id": "0f40424d-9c88-46c7-82da-532c00c4fb72",
   "metadata": {},
   "source": [
    "# Simulation phenotype"
   ]
  },
  {
   "cell_type": "code",
   "execution_count": 78,
   "id": "aa48f53c-dd92-4b59-9ff2-e9f0bc10d23a",
   "metadata": {},
   "outputs": [],
   "source": [
    "import submitit\n",
    "\n",
    "executor = submitit.SgeExecutor(folder=\"./submitit-logs\")\n",
    "\n",
    "executor.update_parameters(\n",
    "    time_min=600,\n",
    "    memory_g=32,\n",
    "    setup=[\n",
    "        \"export PATH=~/project-pasaniuc/software/miniconda3/bin:$PATH\",\n",
    "        \"export PYTHONNOUSERSITE=True\",\n",
    "    ],\n",
    ")\n",
    "\n",
    "\n",
    "def simulate_pheno(hsq, causal_prop, hermodel, name):\n",
    "    out_dir = f\"out/PHENO/{name}\"\n",
    "    if not os.path.exists(out_dir):\n",
    "        os.makedirs(out_dir)\n",
    "\n",
    "    np.random.seed(42)\n",
    "    utils.simulate_quant_pheno(\n",
    "        bfile_list=bfile_list,\n",
    "        hsq=hsq,\n",
    "        causal_prop=causal_prop,\n",
    "        out_prefix=out_dir + \"/sim\",\n",
    "        hermodel=hermodel,\n",
    "        n_sim=N_SIM,\n",
    "    )\n",
    "\n",
    "\n",
    "jobs = executor.map_array(\n",
    "    simulate_pheno,\n",
    "    df_params.hsq,\n",
    "    df_params.pcausal,\n",
    "    df_params.hermodel,\n",
    "    df_params.name,\n",
    ")"
   ]
  },
  {
   "cell_type": "markdown",
   "id": "3c84a09b-a65f-4607-a15a-bdbefe8b8a99",
   "metadata": {},
   "source": [
    "# Simulate GWAS"
   ]
  },
  {
   "cell_type": "code",
   "execution_count": 6,
   "id": "482ae60d-73a0-42d8-957c-260a16f23ffa",
   "metadata": {},
   "outputs": [],
   "source": [
    "def prepare_ldpred2(name, sim_i):\n",
    "    pheno_dir = f\"out/PHENO/{name}\"\n",
    "    out_dir = f\"out/LDPRED2/{name}\"\n",
    "\n",
    "    if not os.path.exists(out_dir):\n",
    "        os.makedirs(out_dir)\n",
    "\n",
    "    df_pheno = pd.read_csv(f\"{pheno_dir}/sim.pheno.tsv.gz\", sep=\"\\t\", index_col=0)\n",
    "\n",
    "    dict_indiv = {}\n",
    "    for group, path in zip([\"train\", \"validate\"], [TRAIN_INDIV_PATH, VAL_INDIV_PATH]):\n",
    "        df_tmp = pd.read_csv(path, sep=\"\\t\", header=None).astype(str)\n",
    "        dict_indiv[group] = (df_tmp.iloc[:, 0] + \"_\" + df_tmp.iloc[:, 1]).values\n",
    "\n",
    "    df_train_pheno = df_pheno.loc[dict_indiv[\"train\"]]\n",
    "    df_validate_pheno = df_pheno.loc[dict_indiv[\"validate\"]]\n",
    "\n",
    "    df_assoc = []\n",
    "    for chrom in range(1, 23):\n",
    "        out_prefix = f\"{out_dir}/sim_{sim_i}.chr{chrom}\"\n",
    "        admix.tools.plink2.gwas(\n",
    "            bfile=join(PLINK_DIR, f\"chr{chrom}\"),\n",
    "            df_sample_info=df_train_pheno,\n",
    "            pheno_col=f\"SIM_{sim_i}\",\n",
    "            out_prefix=out_prefix,\n",
    "            clean_tmp_file=True,\n",
    "        )\n",
    "        df_assoc.append(pd.read_csv(out_prefix + \".assoc\", delim_whitespace=True))\n",
    "        os.remove(out_prefix + \".assoc\")\n",
    "    df_assoc = pd.concat(df_assoc)\n",
    "    df_assoc.to_csv(f\"{out_dir}/sim_{sim_i}.assoc.gz\", sep=\"\\t\", index=False)\n",
    "\n",
    "    admix_prs.plink2_assoc_to_ldpred2(f\"{out_dir}/sim_{sim_i}.assoc.gz\").to_csv(\n",
    "        f\"{out_dir}/sim_{sim_i}.assoc.ldpred2.tsv.gz\", index=False, sep=\"\\t\"\n",
    "    )\n",
    "\n",
    "    # seperating validation phenotype\n",
    "    df_validate_pheno[[\"FID\", \"IID\", f\"SIM_{sim_i}\"]].to_csv(\n",
    "        f\"{out_dir}/sim_{sim_i}.eur_val.pheno.tsv.gz\", index=False, sep=\"\\t\"\n",
    "    )"
   ]
  },
  {
   "cell_type": "code",
   "execution_count": 74,
   "id": "eb6ef3bf-9440-457d-ad8d-5e4bc4c78f99",
   "metadata": {},
   "outputs": [],
   "source": [
    "df_ldpred2_params = df_params.merge(\n",
    "    pd.DataFrame({\"sim_i\": np.arange(100)}), how=\"cross\"\n",
    ")"
   ]
  },
  {
   "cell_type": "code",
   "execution_count": 7,
   "id": "acdb32e5-b534-4d5e-bf74-c0451a4d0132",
   "metadata": {},
   "outputs": [],
   "source": [
    "import submitit\n",
    "\n",
    "executor = submitit.SgeExecutor(folder=\"./submitit-logs\")\n",
    "\n",
    "executor.update_parameters(\n",
    "    time_min=120,\n",
    "    memory_g=30,\n",
    "    setup=[\n",
    "        \"export PATH=~/project-pasaniuc/software/miniconda3/bin:$PATH\",\n",
    "        \"export PYTHONNOUSERSITE=True\",\n",
    "    ],\n",
    ")\n",
    "name = \"hsq-0.25-pcausal-0.01-hermodel-gcta\"\n",
    "jobs = executor.map_array(prepare_ldpred2, [name] * 1, np.arange(9, 10))"
   ]
  }
 ],
 "metadata": {
  "kernelspec": {
   "display_name": "Python 3",
   "language": "python",
   "name": "python3"
  },
  "language_info": {
   "codemirror_mode": {
    "name": "ipython",
    "version": 3
   },
   "file_extension": ".py",
   "mimetype": "text/x-python",
   "name": "python",
   "nbconvert_exporter": "python",
   "pygments_lexer": "ipython3",
   "version": "3.8.5"
  }
 },
 "nbformat": 4,
 "nbformat_minor": 5
}
