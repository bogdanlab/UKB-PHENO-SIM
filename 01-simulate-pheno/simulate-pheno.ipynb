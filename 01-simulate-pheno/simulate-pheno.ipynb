{
 "cells": [
  {
   "cell_type": "markdown",
   "id": "f9ee3614-77d7-4352-9595-ebf1603c0a37",
   "metadata": {},
   "source": [
    "# Phenotype simulation from real genotypes"
   ]
  },
  {
   "cell_type": "code",
   "execution_count": 1,
   "id": "9cd97cab-8883-4507-b7f0-8a381e2a3d93",
   "metadata": {},
   "outputs": [],
   "source": [
    "%load_ext autoreload\n",
    "%autoreload 2\n",
    "%load_ext lab_black"
   ]
  },
  {
   "cell_type": "code",
   "execution_count": 2,
   "id": "6e4fc08c-5156-4311-b59d-cc6b41238cc8",
   "metadata": {},
   "outputs": [],
   "source": [
    "from os.path import join\n",
    "import numpy as np\n",
    "import pandas as pd\n",
    "import admix\n",
    "import matplotlib.pyplot as plt\n",
    "from os.path import join\n",
    "import submitit\n",
    "import dapgen\n",
    "from tqdm import tqdm\n",
    "import dask.array as da\n",
    "import os\n",
    "import itertools\n",
    "import utils"
   ]
  },
  {
   "cell_type": "code",
   "execution_count": 3,
   "id": "884bba6f-cdfe-42c3-b213-62f5cf6aeaaa",
   "metadata": {},
   "outputs": [],
   "source": [
    "PLINK_DIR = \"../00-compile-data/out/PLINK/all\"\n",
    "N_SIM = 100\n",
    "bfile_list = [join(PLINK_DIR, f\"chr{chrom}\") for chrom in range(1, 23)]"
   ]
  },
  {
   "cell_type": "code",
   "execution_count": 4,
   "id": "0bef9e2e-3b79-415d-984c-0c527b9f88ed",
   "metadata": {},
   "outputs": [],
   "source": [
    "def simulate_pheno(hsq, causal_prop, hermodel, out_dir):\n",
    "\n",
    "    if not os.path.exists(out_dir):\n",
    "        os.makedirs(out_dir)\n",
    "\n",
    "    np.random.seed(42)\n",
    "    utils.simulate_quant_pheno(\n",
    "        bfile_list=bfile_list,\n",
    "        hsq=hsq,\n",
    "        causal_prop=causal_prop,\n",
    "        out_prefix=out_dir + \"/sim\",\n",
    "        hermodel=hermodel,\n",
    "        n_sim=N_SIM,\n",
    "    )"
   ]
  },
  {
   "cell_type": "code",
   "execution_count": 5,
   "id": "35ab5867-f466-4c0a-93d9-e8d14e03ffa7",
   "metadata": {},
   "outputs": [],
   "source": [
    "df_params = pd.DataFrame(\n",
    "    [\n",
    "        params\n",
    "        for params in itertools.product(\n",
    "            [0.05, 0.25],\n",
    "            [0.001, 0.01],\n",
    "            [\"mafukb\", \"uniform\", \"gcta\"],\n",
    "        )\n",
    "    ],\n",
    "    columns=[\"hsq\", \"pcausal\", \"hermodel\"],\n",
    ")\n",
    "\n",
    "df_params[\"out_dir\"] = df_params.apply(\n",
    "    lambda r: f\"out/PHENO/hsq-{r.hsq}-pcausal-{r.pcausal}-hermodel-{r.hermodel}\", axis=1\n",
    ")"
   ]
  },
  {
   "cell_type": "code",
   "execution_count": 6,
   "id": "aa48f53c-dd92-4b59-9ff2-e9f0bc10d23a",
   "metadata": {},
   "outputs": [],
   "source": [
    "import submitit\n",
    "\n",
    "executor = submitit.SgeExecutor(folder=\"./submitit-logs\")\n",
    "\n",
    "executor.update_parameters(\n",
    "    time_min=600,\n",
    "    memory_g=30,\n",
    "    setup=[\n",
    "        \"export PATH=~/project-pasaniuc/software/miniconda3/bin:$PATH\",\n",
    "        \"export PYTHONNOUSERSITE=True\",\n",
    "    ],\n",
    ")\n",
    "\n",
    "jobs = executor.map_array(\n",
    "    simulate_pheno,\n",
    "    df_params.hsq,\n",
    "    df_params.pcausal,\n",
    "    df_params.hermodel,\n",
    "    df_params.out_dir,\n",
    ")"
   ]
  }
 ],
 "metadata": {
  "kernelspec": {
   "display_name": "Python 3",
   "language": "python",
   "name": "python3"
  },
  "language_info": {
   "codemirror_mode": {
    "name": "ipython",
    "version": 3
   },
   "file_extension": ".py",
   "mimetype": "text/x-python",
   "name": "python",
   "nbconvert_exporter": "python",
   "pygments_lexer": "ipython3",
   "version": "3.8.5"
  }
 },
 "nbformat": 4,
 "nbformat_minor": 5
}
