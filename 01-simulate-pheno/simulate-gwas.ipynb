{
 "cells": [
  {
   "cell_type": "code",
   "execution_count": 2,
   "id": "89d81c00-1a68-4967-a0f0-48f23cff7b70",
   "metadata": {},
   "outputs": [],
   "source": [
    "# TODO: use eur_train to simulate gwas"
   ]
  },
  {
   "cell_type": "code",
   "execution_count": null,
   "id": "2b7ac530-8765-4897-bb69-b88fad3935e6",
   "metadata": {},
   "outputs": [],
   "source": [
    "for sim_i in range(N_SIM):\n",
    "\n",
    "    # perform GWAS\n",
    "    admix.tools.plink2.gwas(\n",
    "        bfile=join(PLINK_DIR, \"eur_train\", BFILE_PREFIX),\n",
    "        df_sample_info=df_pheno,\n",
    "        pheno_col=f\"SIM_{sim_i}\",\n",
    "        out_prefix=f\"{out_dir}/sim_{sim_i}\",\n",
    "    )\n",
    "    admix_prs.plink2_assoc_to_ldpred2(f\"{out_dir}/sim_{sim_i}.assoc\").to_csv(\n",
    "        f\"{out_dir}/sim_{sim_i}.assoc.ldpred2.tsv\", index=False, sep=\"\\t\"\n",
    "    )\n",
    "\n",
    "    # seperating validation phenotype\n",
    "    df_val_pheno[[\"FID\", \"IID\", f\"SIM_{sim_i}\"]].to_csv(\n",
    "        f\"{out_dir}/sim_{sim_i}.eur_val.pheno.tsv\", index=False, sep=\"\\t\"\n",
    "    )"
   ]
  }
 ],
 "metadata": {
  "kernelspec": {
   "display_name": "Python 3",
   "language": "python",
   "name": "python3"
  },
  "language_info": {
   "codemirror_mode": {
    "name": "ipython",
    "version": 3
   },
   "file_extension": ".py",
   "mimetype": "text/x-python",
   "name": "python",
   "nbconvert_exporter": "python",
   "pygments_lexer": "ipython3",
   "version": "3.8.5"
  }
 },
 "nbformat": 4,
 "nbformat_minor": 5
}
