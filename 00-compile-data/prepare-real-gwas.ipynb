{
 "cells": [
  {
   "cell_type": "code",
   "execution_count": null,
   "id": "ba703ddf-452f-48c1-9d6a-95a61badc9ed",
   "metadata": {},
   "outputs": [],
   "source": [
    "#     df_trait[\"PHENO\"] = admix.data.quantile_normalize(df_trait[\"PHENO\"])\n",
    "#     df_trait.to_csv(\n",
    "#         join(OUT_DIR, f\"{trait}.pheno\"), sep=\"\\t\", index=False, na_rep=\"NA\"\n",
    "#     )\n",
    "# dict_df_covar = {\n",
    "#     group: pd.read_csv(join(OUT_DIR, f\"{group}.covar\"), sep=\"\\t\")\n",
    "#     for group in group_list\n",
    "# }\n",
    "# for trait in trait_list:\n",
    "#     # load trait\n",
    "#     col_covar = [\"SEX\", \"AGE\"] + [f\"PC{i}\" for i in range(1, 11)]\n",
    "#     dict_df_trait = {\n",
    "#         group: pd.read_csv(join(OUT_DIR, f\"{group}.{trait}.pheno\"), sep=\"\\t\")\n",
    "#         for group in group_list\n",
    "#     }\n",
    "\n",
    "#     df_train = pd.merge(\n",
    "#         dict_df_trait[\"eur_train\"], dict_df_covar[\"eur_train\"], on=[\"FID\", \"IID\"]\n",
    "#     )\n",
    "#     model = sm.OLS(\n",
    "#         df_train[\"PHENO\"], sm.add_constant(df_train[col_covar].values), missing=\"drop\"\n",
    "#     ).fit()\n",
    "#     model.save(join(OUT_DIR, f\"eur_train.{trait}.model\"))\n",
    "#     # regress out\n",
    "#     for group in group_list:\n",
    "#         df_group = pd.merge(\n",
    "#             dict_df_trait[group], dict_df_covar[group], on=[\"FID\", \"IID\"]\n",
    "#         )\n",
    "#         df_group[\"PHENO\"] -= model.predict(sm.add_constant(df_group[col_covar].values))\n",
    "#         df_group[[\"FID\", \"IID\", \"PHENO\"]].to_csv(\n",
    "#             join(OUT_DIR, f\"{group}.{trait}.residual_pheno\"),\n",
    "#             sep=\"\\t\",\n",
    "#             index=False,\n",
    "#             na_rep=\"NA\",\n",
    "#         )"
   ]
  },
  {
   "cell_type": "markdown",
   "id": "3c3ddad8-cbba-434f-9cc5-2116071ebcc5",
   "metadata": {},
   "source": [
    "# 3. Perform GWAS\n",
    "```bash\n",
    "for trait in height bmi cholesterol hdl_cholesterol ldl_direct; do\n",
    "    qsub prepare-train-gwas.sh ${trait}\n",
    "done\n",
    "```"
   ]
  },
  {
   "cell_type": "markdown",
   "id": "c736870f-b2de-4a49-8928-0d2d6bb04924",
   "metadata": {},
   "source": [
    "# 4. Format GWAS"
   ]
  },
  {
   "cell_type": "code",
   "execution_count": null,
   "id": "28771c19-3c11-4892-86d9-6cbbaa2d6c22",
   "metadata": {},
   "outputs": [],
   "source": [
    "from scipy.stats import spearmanr\n",
    "import matplotlib.pyplot as plt\n",
    "import admix\n",
    "import admix_prs\n",
    "from os.path import join"
   ]
  },
  {
   "cell_type": "code",
   "execution_count": null,
   "id": "0919e9a6-2801-4e7d-bb41-7d5564b89ce7",
   "metadata": {},
   "outputs": [],
   "source": [
    "trait_list = [\"height\", \"bmi\", \"cholesterol\", \"hdl_cholesterol\", \"ldl_direct\"]\n",
    "\n",
    "GWAS_DIR = \"../../data/train_gwas\"\n",
    "for trait in trait_list:\n",
    "    assoc = admix_prs.plink2_assoc_to_ldpred2(\n",
    "        join(GWAS_DIR, trait, \"assoc.PHENO.glm.linear\")\n",
    "    )\n",
    "    assoc.to_csv(\n",
    "        join(GWAS_DIR, trait, \"assoc.ldpred2.tsv\"), index=False, sep=\"\\t\"\n",
    "    )"
   ]
  }
 ],
 "metadata": {
  "kernelspec": {
   "display_name": "Python 3",
   "language": "python",
   "name": "python3"
  },
  "language_info": {
   "codemirror_mode": {
    "name": "ipython",
    "version": 3
   },
   "file_extension": ".py",
   "mimetype": "text/x-python",
   "name": "python",
   "nbconvert_exporter": "python",
   "pygments_lexer": "ipython3",
   "version": "3.8.5"
  }
 },
 "nbformat": 4,
 "nbformat_minor": 5
}
