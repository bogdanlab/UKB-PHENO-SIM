{
 "cells": [
  {
   "cell_type": "markdown",
   "id": "6f37ea74-9414-4d19-bab8-d92afd50aa31",
   "metadata": {},
   "source": [
    "# Train PRS on European population and apply to admixed population"
   ]
  },
  {
   "cell_type": "markdown",
   "id": "e3cdd98c-d05d-450c-8857-0eb89d633e50",
   "metadata": {},
   "source": [
    "1. Divide into training / validation / testing for European\n",
    "    - prs/pheno/eur_{train, val, test}.indiv\n",
    "    - Admixed testing population from plink/admix.merged.fam\n",
    "2. Extract phenotypes\n",
    "    - Raw phenotypes: prs/pheno/{group}.{trait}.pheno \n",
    "    - Raw covariates: prs/covar/{group}.covar\n",
    "    - Regressed phenotypes: prs/pheno/{group}.{trait}.residual_pheno\n",
    "    - Regression model (train on European and apply to other populations): prs/pheno/eur_train.{trait}.model\n",
    "2. Perform GWAS\n",
    "    - Simple PLINK GWAS\n",
    "3. Apply PRS uncertainty"
   ]
  },
  {
   "cell_type": "markdown",
   "id": "caf46b9c-949b-4a39-84e7-b71e9bfa7f5e",
   "metadata": {},
   "source": [
    "# Divide into training / validation / testing for European"
   ]
  },
  {
   "cell_type": "code",
   "execution_count": 1,
   "id": "5732395d-d46a-4881-966e-3da76972ab36",
   "metadata": {},
   "outputs": [],
   "source": [
    "%load_ext autoreload\n",
    "%autoreload 2\n",
    "%load_ext lab_black"
   ]
  },
  {
   "cell_type": "code",
   "execution_count": 2,
   "id": "7637e258-8b3c-413d-9de5-b3bffc62a271",
   "metadata": {},
   "outputs": [],
   "source": [
    "import admix\n",
    "import numpy as np\n",
    "import pandas as pd\n",
    "from os.path import join\n",
    "import statsmodels.api as sm\n",
    "import matplotlib.pyplot as plt"
   ]
  },
  {
   "cell_type": "code",
   "execution_count": 3,
   "id": "7a86cfd1-0637-4e82-afde-bc2f89153089",
   "metadata": {},
   "outputs": [],
   "source": [
    "import numpy as np\n",
    "import pandas as pd\n",
    "\n",
    "col_dict = {\n",
    "    \"eid\": \"ID\",\n",
    "    \"21003-0.0\": \"AGE\",\n",
    "    \"31-0.0\": \"SEX\",\n",
    "}\n",
    "for i in range(1, 41):\n",
    "    col_dict[f\"22009-0.{i}\"] = f\"PC{i}\"\n",
    "\n",
    "pheno1 = pd.read_csv(\n",
    "    \"/u/project/sriram/ukbiobank/33127/ukb21970.csv\",\n",
    "    usecols=col_dict.keys(),\n",
    "    encoding=\"unicode_escape\",\n",
    ").rename(columns=col_dict)\n",
    "pheno1.ID = pheno1.ID.astype(str)\n",
    "pheno1 = pheno1.set_index(\"ID\")\n",
    "\n",
    "# extract phenotype from another file (because in another UKB application)\n",
    "col_dict = {\n",
    "    \"eid\": \"ID\",\n",
    "    \"31-0.0\": \"SEX\",\n",
    "    \"21000-0.0\": \"SIRE\",\n",
    "    \"50-0.0\": \"height\",\n",
    "    \"23104-0.0\": \"bmi\",\n",
    "    \"30897-0.0\": \"dilution_factor\",\n",
    "    \"30690-0.0\": \"cholesterol\",\n",
    "    \"30780-0.0\": \"ldl_direct\",\n",
    "    \"30760-0.0\": \"hdl_cholesterol\",\n",
    "}\n",
    "\n",
    "pheno2 = pd.read_csv(\n",
    "    \"/u/project/sriram/ukbiobank/33127/ukb39967.enc_ukb.converted2.csv\",\n",
    "    usecols=col_dict.keys(),\n",
    "    encoding=\"unicode_escape\",\n",
    ").rename(columns=col_dict)\n",
    "pheno2.ID = pheno2.ID.astype(str)\n",
    "pheno2 = pheno2.set_index(\"ID\")\n",
    "\n",
    "df_all = pd.merge(pheno1, pheno2.drop(\"SEX\", axis=1), left_index=True, right_index=True)\n",
    "df_all.to_csv(\"out/REAL-PHENO/all-pheno.csv\")"
   ]
  },
  {
   "cell_type": "code",
   "execution_count": 6,
   "id": "aa5bbc8e-5e87-4a92-918d-1250b91489aa",
   "metadata": {},
   "outputs": [],
   "source": [
    "trait_list = [\"height\", \"bmi\", \"cholesterol\", \"hdl_cholesterol\", \"ldl_direct\"]\n",
    "OUT_DIR = \"out/REAL-PHENO\""
   ]
  },
  {
   "cell_type": "code",
   "execution_count": 10,
   "id": "93d07c6d-b6f8-4e7b-8d7d-7e7167b111f4",
   "metadata": {},
   "outputs": [],
   "source": [
    "import pandas as pd\n",
    "\n",
    "df_pheno = pd.read_csv(\"out/REAL-PHENO/all-pheno.csv\").astype({\"ID\": str})\n",
    "df_covar = df_pheno[[\"ID\", \"ID\", \"SEX\", \"AGE\"] + [f\"PC{i}\" for i in range(1, 21)]]\n",
    "df_covar.columns = [\"FID\", \"IID\"] + list(df_covar.columns[2:])\n",
    "df_covar.to_csv(join(OUT_DIR, \"all.covar\"), sep=\"\\t\", index=False, na_rep=\"NA\")\n",
    "\n",
    "for trait in trait_list:\n",
    "    df_trait = df_pheno[[\"ID\", \"ID\", trait]].copy()\n",
    "    df_trait.columns = [\"FID\", \"IID\", \"PHENO\"]\n",
    "    df_trait.to_csv(\n",
    "        join(OUT_DIR, f\"{trait}.raw.pheno\"), sep=\"\\t\", index=False, na_rep=\"NA\"\n",
    "    )"
   ]
  }
 ],
 "metadata": {
  "kernelspec": {
   "display_name": "Python 3",
   "language": "python",
   "name": "python3"
  },
  "language_info": {
   "codemirror_mode": {
    "name": "ipython",
    "version": 3
   },
   "file_extension": ".py",
   "mimetype": "text/x-python",
   "name": "python",
   "nbconvert_exporter": "python",
   "pygments_lexer": "ipython3",
   "version": "3.8.5"
  }
 },
 "nbformat": 4,
 "nbformat_minor": 5
}
