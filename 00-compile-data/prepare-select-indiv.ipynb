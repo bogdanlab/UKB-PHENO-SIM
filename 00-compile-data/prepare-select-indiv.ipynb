{
 "cells": [
  {
   "cell_type": "code",
   "execution_count": 19,
   "id": "50186ebb-dafb-4fe2-b692-7104a3cab1bf",
   "metadata": {},
   "outputs": [],
   "source": [
    "%load_ext lab_black\n",
    "import numpy as np\n",
    "import pandas as pd\n",
    "import dapgen\n",
    "from os.path import join\n",
    "\n",
    "EUR_BFILE = \"/u/project/sriram/ukbiobank/data/geno/cal/filter4\"\n",
    "ALL_BFILE = \"out/PLINK/all/chr22\"\n",
    "N_TRAIN = 250000\n",
    "N_VAL = 20000\n",
    "OUT_DIR = \"out/INDIVLIST\""
   ]
  },
  {
   "cell_type": "code",
   "execution_count": 2,
   "id": "41341739-6649-4fbc-81fc-fa17fc1de883",
   "metadata": {},
   "outputs": [
    {
     "name": "stdout",
     "output_type": "stream",
     "text": [
      "read_fam: only the first two columns [FID, IID] are read, using <FID>_<IID> as index\n",
      "read_fam: only the first two columns [FID, IID] are read, using <FID>_<IID> as index\n"
     ]
    }
   ],
   "source": [
    "df_eur_fam = dapgen.read_fam(EUR_BFILE + \".fam\")\n",
    "df_all_fam = dapgen.read_fam(ALL_BFILE + \".fam\")\n",
    "assert len(set(df_eur_fam.index) & set(df_all_fam.index)) == len(df_eur_fam), \"EUR_BFILE's individuals must be a subset of ALL_BFILE's individual\""
   ]
  },
  {
   "cell_type": "code",
   "execution_count": 3,
   "id": "687a0207-8f17-48bc-9c8a-a41d7bd8407e",
   "metadata": {},
   "outputs": [],
   "source": [
    "np.random.seed(1234)\n",
    "train_index = np.sort(np.random.choice(np.arange(len(df_eur_fam)), size=N_TRAIN, replace=False))\n",
    "val_test_index = np.setdiff1d(np.arange(len(df_eur_fam)), train_index)\n",
    "val_index = np.sort(np.random.choice(val_test_index, size=N_VAL, replace=False))\n",
    "test_index = np.setdiff1d(val_test_index, val_index)"
   ]
  },
  {
   "cell_type": "code",
   "execution_count": 4,
   "id": "245526b4-d495-4c69-8c53-220e640ab37f",
   "metadata": {},
   "outputs": [],
   "source": [
    "for name, index in zip(['eur_train', 'eur_val', \"eur_test\"],\n",
    "                       [train_index, val_index, test_index]):\n",
    "    df_eur_fam.iloc[index].astype(str).to_csv(join(OUT_DIR, f\"{name}.indiv\"), sep='\\t', index=False, header=False)"
   ]
  },
  {
   "cell_type": "markdown",
   "id": "3890c72a-c999-4123-a48d-e3a549a476bf",
   "metadata": {},
   "source": [
    "# produce a individual list that excludes eur_train, eur_val, eur_test"
   ]
  },
  {
   "cell_type": "code",
   "execution_count": 21,
   "id": "3f4c80d1-1bbc-47f5-87db-60032a9baa37",
   "metadata": {},
   "outputs": [],
   "source": [
    "df_indiv = []\n",
    "\n",
    "for prefix in [\"eur_train\", \"eur_val\", \"eur_test\"]:\n",
    "    df_indiv.append(\n",
    "        pd.read_csv(\n",
    "            join(OUT_DIR, prefix + \".indiv\"),\n",
    "            sep=\"\\t\",\n",
    "            header=None,\n",
    "            names=[\"FID\", \"IID\"],\n",
    "        )\n",
    "    )\n",
    "df_indiv = pd.concat(df_indiv).reset_index(drop=True)"
   ]
  },
  {
   "cell_type": "code",
   "execution_count": 22,
   "id": "b66f60b7-c458-4363-bcf3-fabc31e143c3",
   "metadata": {},
   "outputs": [],
   "source": [
    "assert np.all(df_indiv.FID == df_indiv.IID)\n",
    "assert np.all(df_all_indiv.FID == df_all_indiv.IID)\n",
    "assert len(set(df_indiv.FID) - set(df_all_indiv.FID)) == 0"
   ]
  },
  {
   "cell_type": "code",
   "execution_count": 24,
   "id": "68ac404b-472f-4371-a04f-165d8d045b11",
   "metadata": {},
   "outputs": [],
   "source": [
    "df_all_indiv = pd.read_csv(\n",
    "    \"out/PLINK/all/chr1.fam\",\n",
    "    usecols=[0, 1],\n",
    "    delim_whitespace=True,\n",
    "    header=None,\n",
    "    names=[\"FID\", \"IID\"],\n",
    ")\n",
    "\n",
    "df_all_indiv[\n",
    "    df_all_indiv.FID.isin(set(df_all_indiv.FID) - set(df_indiv.FID))\n",
    "].sort_values(\"FID\").to_csv(\n",
    "    join(OUT_DIR, \"diverse.indiv\"), sep=\"\\t\", header=False, index=False\n",
    ")"
   ]
  }
 ],
 "metadata": {
  "kernelspec": {
   "display_name": "Python 3",
   "language": "python",
   "name": "python3"
  },
  "language_info": {
   "codemirror_mode": {
    "name": "ipython",
    "version": 3
   },
   "file_extension": ".py",
   "mimetype": "text/x-python",
   "name": "python",
   "nbconvert_exporter": "python",
   "pygments_lexer": "ipython3",
   "version": "3.8.5"
  }
 },
 "nbformat": 4,
 "nbformat_minor": 5
}
