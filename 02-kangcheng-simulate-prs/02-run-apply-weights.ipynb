{
 "cells": [
  {
   "cell_type": "code",
   "execution_count": 1,
   "id": "a02ad796-e6c7-4e85-984a-b888eb85ea19",
   "metadata": {},
   "outputs": [],
   "source": [
    "%load_ext autoreload\n",
    "%load_ext lab_black\n",
    "%autoreload 2\n",
    "\n",
    "import admix\n",
    "import numpy as np\n",
    "import matplotlib.pyplot as plt\n",
    "import pandas as pd\n",
    "from os.path import join\n",
    "from tqdm import tqdm\n",
    "from sklearn.model_selection import train_test_split\n",
    "from scipy.stats import pearsonr\n",
    "import seaborn as sns\n",
    "import statsmodels.api as sm\n",
    "import os\n",
    "import subprocess"
   ]
  },
  {
   "cell_type": "code",
   "execution_count": 2,
   "id": "1eaa16c4-b4c8-4f50-992c-bc94a0d58be6",
   "metadata": {},
   "outputs": [],
   "source": [
    "DATA_DIR = \"/u/project/sgss/UKBB/PRS-RESEARCH/DATA\"\n",
    "PLINK_DIR = join(DATA_DIR, \"PLINK\")"
   ]
  },
  {
   "cell_type": "code",
   "execution_count": 3,
   "id": "74729a7d-404a-4c10-bb80-4d917cda38df",
   "metadata": {},
   "outputs": [],
   "source": [
    "prefix = \"hsq-0.25-pcausal-0.01-hermodel-gcta\""
   ]
  },
  {
   "cell_type": "code",
   "execution_count": 7,
   "id": "b6f8050a-cef9-484e-becb-ef5f59532967",
   "metadata": {},
   "outputs": [],
   "source": [
    "def submit_predict(prefix, sim_i, center=True):\n",
    "    weights_dir = f\"out/PRS-WEIGHTS/{prefix}\"\n",
    "    score_dir = f\"out/PRS-SCORE/{prefix}\"\n",
    "    if not os.path.exists(score_dir):\n",
    "        os.makedirs(score_dir)\n",
    "    cmds = [\n",
    "        \"dapgen score\",\n",
    "        f\"--plink {PLINK_DIR}\",\n",
    "        f\"--weights {weights_dir}/sim_{sim_i}.weight.tsv.gz\",\n",
    "        f\"--out {score_dir}/sim_{sim_i}.score.tsv.gz\",\n",
    "        f\"--center {center}\",\n",
    "        \"--memory 40\",\n",
    "        \"--freq-suffix .eur_train.afreq\",\n",
    "        \"--chrom-col CHR --alt-col A1 --ref-col A2\",\n",
    "    ]\n",
    "    subprocess.check_call(\" \".join(cmds), shell=True)\n",
    "\n",
    "    df_score = pd.read_csv(\n",
    "        f\"{score_dir}/sim_{sim_i}.score.tsv.gz\", sep=\"\\t\", index_col=0\n",
    "    )\n",
    "    df_summary = pd.DataFrame(\n",
    "        {\"MEAN\": df_score.mean(axis=1), \"SD\": df_score.std(axis=1)}\n",
    "    )\n",
    "    q_list = np.linspace(0.05, 0.95, 19)\n",
    "    df_quantile = df_score.quantile(q=q_list, axis=1).T\n",
    "    df_quantile.columns = [f\"QUANTILE_{int(q * 100)}\" for q in q_list]\n",
    "    df_summary = pd.merge(df_summary, df_quantile, left_index=True, right_index=True)\n",
    "    df_summary.to_csv(\n",
    "        join(f\"{score_dir}/sim_{sim_i}.score_summary.tsv.gz\"),\n",
    "        sep=\"\\t\",\n",
    "        float_format=\"%.6f\",\n",
    "    )\n",
    "\n",
    "\n",
    "import submitit\n",
    "\n",
    "executor = submitit.SgeExecutor(folder=\"./submitit-logs\")\n",
    "\n",
    "executor.update_parameters(\n",
    "    time_min=200,\n",
    "    memory_g=60,\n",
    "    queue=\"highp\",\n",
    "    setup=[\n",
    "        \"export PATH=~/project-pasaniuc/software/miniconda3/bin:$PATH\",\n",
    "        \"export PYTHONNOUSERSITE=True\",\n",
    "    ],\n",
    ")\n",
    "\n",
    "jobs = executor.map_array(submit_predict, [prefix] * 10, np.arange(10))"
   ]
  }
 ],
 "metadata": {
  "kernelspec": {
   "display_name": "Python 3",
   "language": "python",
   "name": "python3"
  },
  "language_info": {
   "codemirror_mode": {
    "name": "ipython",
    "version": 3
   },
   "file_extension": ".py",
   "mimetype": "text/x-python",
   "name": "python",
   "nbconvert_exporter": "python",
   "pygments_lexer": "ipython3",
   "version": "3.8.5"
  }
 },
 "nbformat": 4,
 "nbformat_minor": 5
}
