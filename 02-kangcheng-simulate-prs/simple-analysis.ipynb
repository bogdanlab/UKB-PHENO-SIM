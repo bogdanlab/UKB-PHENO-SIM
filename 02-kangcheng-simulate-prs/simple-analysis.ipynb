{
 "cells": [
  {
   "cell_type": "code",
   "execution_count": 1,
   "id": "75381e58-e775-4259-9c86-767b30062f48",
   "metadata": {},
   "outputs": [],
   "source": [
    "%load_ext lab_black\n",
    "import pandas as pd\n",
    "import numpy as np\n",
    "from os.path import join\n",
    "import matplotlib.pyplot as plt\n",
    "import scipy.stats\n",
    "import statsmodels.api as sm"
   ]
  },
  {
   "cell_type": "code",
   "execution_count": 2,
   "id": "bc4b3d32-6ecf-4a76-bbc8-ef5e4e8349ce",
   "metadata": {},
   "outputs": [],
   "source": [
    "prefix = \"hsq-0.25-pcausal-0.01-hermodel-gcta\"\n",
    "sim_i = 3"
   ]
  },
  {
   "cell_type": "code",
   "execution_count": 3,
   "id": "8b511a46-da7a-473a-bf59-a60bb9e62782",
   "metadata": {},
   "outputs": [],
   "source": [
    "test_indiv_list = pd.read_csv(\n",
    "    \"/u/project/sgss/UKBB/PRS-RESEARCH/00-compile-data/out/INDIVLIST/eur_test.indiv\",\n",
    "    sep=\"\\t\",\n",
    "    header=None,\n",
    "    names=[\"FID\", \"IID\"],\n",
    ")\n",
    "test_indiv_list = (\n",
    "    test_indiv_list.FID.astype(str) + \"_\" + test_indiv_list.IID.astype(str)\n",
    ").values"
   ]
  },
  {
   "cell_type": "code",
   "execution_count": 4,
   "id": "92e7ea04-d3e2-4f09-b2c1-4d79733e6efc",
   "metadata": {},
   "outputs": [],
   "source": [
    "df_score = pd.read_csv(\n",
    "    join(f\"out/PRS-SCORE/{prefix}\", f\"sim_{sim_i}.score_summary.tsv.gz\"),\n",
    "    sep=\"\\t\",\n",
    "    index_col=0,\n",
    ").reindex(test_indiv_list)"
   ]
  },
  {
   "cell_type": "code",
   "execution_count": 5,
   "id": "a3a67a9e-578a-4ed0-aaf1-fa7367c2d8dd",
   "metadata": {},
   "outputs": [],
   "source": [
    "SIM_DIR = f\"../01-simulate-pheno/out/PHENO/{prefix}\"\n",
    "\n",
    "# read genetic value and phenotype\n",
    "df_pheno_g = (\n",
    "    pd.read_csv(\n",
    "        join(f\"{SIM_DIR}/sim.pheno_g.tsv.gz\"),\n",
    "        sep=\"\\t\",\n",
    "        index_col=0,\n",
    "    )[[f\"SIM_{sim_i}\"]]\n",
    "    .rename(columns={f\"SIM_{sim_i}\": \"GV\"})\n",
    "    .reindex(df_score.index)\n",
    ")\n",
    "df_pheno = (\n",
    "    pd.read_csv(join(f\"{SIM_DIR}/sim.pheno.tsv.gz\"), sep=\"\\t\", index_col=0)[\n",
    "        [f\"SIM_{sim_i}\"]\n",
    "    ]\n",
    "    .rename(columns={f\"SIM_{sim_i}\": \"PHENO\"})\n",
    "    .reindex(df_score.index)\n",
    ")\n",
    "df_score = pd.concat([df_pheno, df_pheno_g, df_score], axis=1)"
   ]
  },
  {
   "cell_type": "code",
   "execution_count": 6,
   "id": "73f596dd-23a0-44f6-b5c2-8b6713cdecab",
   "metadata": {},
   "outputs": [],
   "source": [
    "intercept = (df_score.MEAN - df_score.GV).mean()\n",
    "df_plot = pd.DataFrame(\n",
    "    {\n",
    "        \"GV\": df_score.GV,\n",
    "        \"MEAN\": df_score.MEAN - intercept,\n",
    "        \"LOWER\": df_score.QUANTILE_10 - intercept,\n",
    "        \"UPPER\": df_score.QUANTILE_90 - intercept,\n",
    "    }\n",
    ")"
   ]
  },
  {
   "cell_type": "code",
   "execution_count": 7,
   "id": "43f4f01a-907e-4188-9ba7-f99147ef678d",
   "metadata": {},
   "outputs": [
    {
     "data": {
      "text/plain": [
       "(0.7769047327602104, 0.0)"
      ]
     },
     "execution_count": 7,
     "metadata": {},
     "output_type": "execute_result"
    }
   ],
   "source": [
    "scipy.stats.pearsonr(df_plot.GV, df_plot.MEAN)"
   ]
  },
  {
   "cell_type": "code",
   "execution_count": 8,
   "id": "cc5d3556-be4c-4425-b56c-ebb616cbc421",
   "metadata": {},
   "outputs": [
    {
     "data": {
      "text/plain": [
       "0.14746392140271705"
      ]
     },
     "execution_count": 8,
     "metadata": {},
     "output_type": "execute_result"
    }
   ],
   "source": [
    "np.mean(df_plot.GV <= df_plot.LOWER)"
   ]
  },
  {
   "cell_type": "code",
   "execution_count": 9,
   "id": "f67b7e18-4c45-41fe-9580-4b1823fd91ea",
   "metadata": {},
   "outputs": [
    {
     "data": {
      "text/plain": [
       "0.8543693884266441"
      ]
     },
     "execution_count": 9,
     "metadata": {},
     "output_type": "execute_result"
    }
   ],
   "source": [
    "np.mean(df_plot.GV <= df_plot.UPPER)"
   ]
  },
  {
   "cell_type": "code",
   "execution_count": 10,
   "id": "31598480-262c-4bc6-b772-0b81a21a588a",
   "metadata": {},
   "outputs": [
    {
     "name": "stderr",
     "output_type": "stream",
     "text": [
      "/u/project/pasaniuc/kangchen/software/miniconda3/lib/python3.8/site-packages/statsmodels/tsa/tsatools.py:142: FutureWarning: In a future version of pandas all arguments of concat except for the argument 'objs' will be keyword-only\n",
      "  x = pd.concat(x[::order], 1)\n"
     ]
    },
    {
     "data": {
      "text/html": [
       "<table class=\"simpletable\">\n",
       "<caption>OLS Regression Results</caption>\n",
       "<tr>\n",
       "  <th>Dep. Variable:</th>           <td>GV</td>        <th>  R-squared:         </th> <td>   0.604</td> \n",
       "</tr>\n",
       "<tr>\n",
       "  <th>Model:</th>                   <td>OLS</td>       <th>  Adj. R-squared:    </th> <td>   0.604</td> \n",
       "</tr>\n",
       "<tr>\n",
       "  <th>Method:</th>             <td>Least Squares</td>  <th>  F-statistic:       </th> <td>3.239e+04</td>\n",
       "</tr>\n",
       "<tr>\n",
       "  <th>Date:</th>             <td>Tue, 21 Dec 2021</td> <th>  Prob (F-statistic):</th>  <td>  0.00</td>  \n",
       "</tr>\n",
       "<tr>\n",
       "  <th>Time:</th>                 <td>14:31:29</td>     <th>  Log-Likelihood:    </th> <td> -5439.5</td> \n",
       "</tr>\n",
       "<tr>\n",
       "  <th>No. Observations:</th>      <td> 21273</td>      <th>  AIC:               </th> <td>1.088e+04</td>\n",
       "</tr>\n",
       "<tr>\n",
       "  <th>Df Residuals:</th>          <td> 21271</td>      <th>  BIC:               </th> <td>1.090e+04</td>\n",
       "</tr>\n",
       "<tr>\n",
       "  <th>Df Model:</th>              <td>     1</td>      <th>                     </th>     <td> </td>    \n",
       "</tr>\n",
       "<tr>\n",
       "  <th>Covariance Type:</th>      <td>nonrobust</td>    <th>                     </th>     <td> </td>    \n",
       "</tr>\n",
       "</table>\n",
       "<table class=\"simpletable\">\n",
       "<tr>\n",
       "    <td></td>       <th>coef</th>     <th>std err</th>      <th>t</th>      <th>P>|t|</th>  <th>[0.025</th>    <th>0.975]</th>  \n",
       "</tr>\n",
       "<tr>\n",
       "  <th>const</th> <td>   -0.0091</td> <td>    0.003</td> <td>   -3.128</td> <td> 0.002</td> <td>   -0.015</td> <td>   -0.003</td>\n",
       "</tr>\n",
       "<tr>\n",
       "  <th>MEAN</th>  <td>    1.0264</td> <td>    0.006</td> <td>  179.964</td> <td> 0.000</td> <td>    1.015</td> <td>    1.038</td>\n",
       "</tr>\n",
       "</table>\n",
       "<table class=\"simpletable\">\n",
       "<tr>\n",
       "  <th>Omnibus:</th>       <td>46.334</td> <th>  Durbin-Watson:     </th> <td>   1.978</td>\n",
       "</tr>\n",
       "<tr>\n",
       "  <th>Prob(Omnibus):</th> <td> 0.000</td> <th>  Jarque-Bera (JB):  </th> <td>  53.445</td>\n",
       "</tr>\n",
       "<tr>\n",
       "  <th>Skew:</th>          <td>-0.060</td> <th>  Prob(JB):          </th> <td>2.48e-12</td>\n",
       "</tr>\n",
       "<tr>\n",
       "  <th>Kurtosis:</th>      <td> 3.215</td> <th>  Cond. No.          </th> <td>    3.02</td>\n",
       "</tr>\n",
       "</table><br/><br/>Notes:<br/>[1] Standard Errors assume that the covariance matrix of the errors is correctly specified."
      ],
      "text/plain": [
       "<class 'statsmodels.iolib.summary.Summary'>\n",
       "\"\"\"\n",
       "                            OLS Regression Results                            \n",
       "==============================================================================\n",
       "Dep. Variable:                     GV   R-squared:                       0.604\n",
       "Model:                            OLS   Adj. R-squared:                  0.604\n",
       "Method:                 Least Squares   F-statistic:                 3.239e+04\n",
       "Date:                Tue, 21 Dec 2021   Prob (F-statistic):               0.00\n",
       "Time:                        14:31:29   Log-Likelihood:                -5439.5\n",
       "No. Observations:               21273   AIC:                         1.088e+04\n",
       "Df Residuals:                   21271   BIC:                         1.090e+04\n",
       "Df Model:                           1                                         \n",
       "Covariance Type:            nonrobust                                         \n",
       "==============================================================================\n",
       "                 coef    std err          t      P>|t|      [0.025      0.975]\n",
       "------------------------------------------------------------------------------\n",
       "const         -0.0091      0.003     -3.128      0.002      -0.015      -0.003\n",
       "MEAN           1.0264      0.006    179.964      0.000       1.015       1.038\n",
       "==============================================================================\n",
       "Omnibus:                       46.334   Durbin-Watson:                   1.978\n",
       "Prob(Omnibus):                  0.000   Jarque-Bera (JB):               53.445\n",
       "Skew:                          -0.060   Prob(JB):                     2.48e-12\n",
       "Kurtosis:                       3.215   Cond. No.                         3.02\n",
       "==============================================================================\n",
       "\n",
       "Notes:\n",
       "[1] Standard Errors assume that the covariance matrix of the errors is correctly specified.\n",
       "\"\"\""
      ]
     },
     "execution_count": 10,
     "metadata": {},
     "output_type": "execute_result"
    }
   ],
   "source": [
    "sm.OLS(df_plot.GV, sm.add_constant(df_plot.MEAN)).fit().summary()"
   ]
  }
 ],
 "metadata": {
  "kernelspec": {
   "display_name": "Python 3",
   "language": "python",
   "name": "python3"
  },
  "language_info": {
   "codemirror_mode": {
    "name": "ipython",
    "version": 3
   },
   "file_extension": ".py",
   "mimetype": "text/x-python",
   "name": "python",
   "nbconvert_exporter": "python",
   "pygments_lexer": "ipython3",
   "version": "3.8.5"
  }
 },
 "nbformat": 4,
 "nbformat_minor": 5
}
