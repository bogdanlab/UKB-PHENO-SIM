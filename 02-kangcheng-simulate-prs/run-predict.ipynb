{
 "cells": [
  {
   "cell_type": "code",
   "execution_count": 1,
   "id": "a02ad796-e6c7-4e85-984a-b888eb85ea19",
   "metadata": {},
   "outputs": [],
   "source": [
    "%load_ext autoreload\n",
    "%load_ext lab_black\n",
    "%autoreload 2\n",
    "\n",
    "import admix\n",
    "import numpy as np\n",
    "import matplotlib.pyplot as plt\n",
    "import pandas as pd\n",
    "from os.path import join\n",
    "from tqdm import tqdm\n",
    "from sklearn.model_selection import train_test_split\n",
    "from scipy.stats import pearsonr\n",
    "import seaborn as sns\n",
    "import admix_prs\n",
    "import statsmodels.api as sm\n",
    "import os"
   ]
  },
  {
   "cell_type": "code",
   "execution_count": 2,
   "id": "a121f59d-547e-4a4c-964f-d0e5b0fcf6a8",
   "metadata": {},
   "outputs": [],
   "source": [
    "prefix = \"hsq-0.25-pcausal-0.01-hermodel-gcta\"\n",
    "PLINK_DIR = \"out/PLINK/\"\n",
    "TEST_BFILE = \"out/PLINK/eur_test.all\""
   ]
  },
  {
   "cell_type": "code",
   "execution_count": 3,
   "id": "9f705a61-d436-4112-8274-94da1832d3bc",
   "metadata": {},
   "outputs": [],
   "source": [
    "sim_i = 0"
   ]
  },
  {
   "cell_type": "code",
   "execution_count": 4,
   "id": "51c26c96-0a35-42bb-9ece-e9f0745b5792",
   "metadata": {},
   "outputs": [],
   "source": [
    "import dapgen"
   ]
  },
  {
   "cell_type": "code",
   "execution_count": 13,
   "id": "84b9e3dd-a848-4ca4-94b2-ddcec967fb6a",
   "metadata": {},
   "outputs": [],
   "source": [
    "# todo: add centering option in dapgen"
   ]
  },
  {
   "cell_type": "code",
   "execution_count": 5,
   "id": "6c3d3ab8-be99-4c3b-899c-86b96c4a78bc",
   "metadata": {},
   "outputs": [
    {
     "name": "stdout",
     "output_type": "stream",
     "text": [
      "common snp proportion: 1.0\n",
      "             CHROM  CM       POS ALT REF\n",
      "snp                                     \n",
      "1:752721         1   0    752721   A   G\n",
      "1:754182         1   0    754182   A   G\n",
      "1:760912         1   0    760912   C   T\n",
      "1:768448         1   0    768448   A   G\n",
      "1:779322         1   0    779322   G   A\n",
      "...            ...  ..       ...  ..  ..\n",
      "22:51178090     22   0  51178090   A   G\n",
      "22:51181759     22   0  51181759   A   G\n",
      "22:51211392     22   0  51211392   C   T\n",
      "22:51212875     22   0  51212875   C   A\n",
      "22:51219006     22   0  51219006   A   G\n",
      "\n",
      "[1054151 rows x 5 columns]\n",
      "             CHROM       POS ALT REF  SAMPLE_1  SAMPLE_2  SAMPLE_3  SAMPLE_4  \\\n",
      "SNP                                                                            \n",
      "1:752721         1    752721   A   G       0.0       0.0       0.0       0.0   \n",
      "1:754182         1    754182   A   G       0.0       0.0       0.0       0.0   \n",
      "1:760912         1    760912   C   T       0.0       0.0       0.0       0.0   \n",
      "1:768448         1    768448   A   G       0.0       0.0       0.0       0.0   \n",
      "1:779322         1    779322   G   A       0.0       0.0       0.0       0.0   \n",
      "...            ...       ...  ..  ..       ...       ...       ...       ...   \n",
      "22:51178090     22  51178090   A   G       0.0       0.0       0.0       0.0   \n",
      "22:51181759     22  51181759   A   G       0.0       0.0       0.0       0.0   \n",
      "22:51211392     22  51211392   C   T       0.0       0.0       0.0       0.0   \n",
      "22:51212875     22  51212875   C   A       0.0       0.0       0.0       0.0   \n",
      "22:51219006     22  51219006   A   G       0.0       0.0       0.0       0.0   \n",
      "\n",
      "             SAMPLE_5  SAMPLE_6  ...  SAMPLE_491  SAMPLE_492  SAMPLE_493  \\\n",
      "SNP                              ...                                       \n",
      "1:752721          0.0       0.0  ...         0.0         0.0         0.0   \n",
      "1:754182          0.0       0.0  ...         0.0         0.0         0.0   \n",
      "1:760912          0.0       0.0  ...         0.0         0.0         0.0   \n",
      "1:768448          0.0       0.0  ...         0.0         0.0         0.0   \n",
      "1:779322          0.0       0.0  ...         0.0         0.0         0.0   \n",
      "...               ...       ...  ...         ...         ...         ...   \n",
      "22:51178090       0.0       0.0  ...         0.0         0.0         0.0   \n",
      "22:51181759       0.0       0.0  ...         0.0         0.0         0.0   \n",
      "22:51211392       0.0       0.0  ...         0.0         0.0         0.0   \n",
      "22:51212875       0.0       0.0  ...         0.0         0.0         0.0   \n",
      "22:51219006       0.0       0.0  ...         0.0         0.0         0.0   \n",
      "\n",
      "             SAMPLE_494  SAMPLE_495  SAMPLE_496  SAMPLE_497  SAMPLE_498  \\\n",
      "SNP                                                                       \n",
      "1:752721            0.0         0.0         0.0         0.0    0.000000   \n",
      "1:754182            0.0         0.0         0.0         0.0    0.000000   \n",
      "1:760912            0.0         0.0         0.0         0.0    0.000000   \n",
      "1:768448            0.0         0.0         0.0         0.0    0.000000   \n",
      "1:779322            0.0         0.0         0.0         0.0    0.000000   \n",
      "...                 ...         ...         ...         ...         ...   \n",
      "22:51178090         0.0         0.0         0.0         0.0    0.000000   \n",
      "22:51181759         0.0         0.0         0.0         0.0    0.000000   \n",
      "22:51211392         0.0         0.0         0.0         0.0    0.000000   \n",
      "22:51212875         0.0         0.0         0.0         0.0    0.000000   \n",
      "22:51219006         0.0         0.0         0.0         0.0   -0.011053   \n",
      "\n",
      "             SAMPLE_499  SAMPLE_500  \n",
      "SNP                                  \n",
      "1:752721            0.0         0.0  \n",
      "1:754182            0.0         0.0  \n",
      "1:760912            0.0         0.0  \n",
      "1:768448            0.0         0.0  \n",
      "1:779322            0.0         0.0  \n",
      "...                 ...         ...  \n",
      "22:51178090         0.0         0.0  \n",
      "22:51181759         0.0         0.0  \n",
      "22:51211392         0.0         0.0  \n",
      "22:51212875         0.0         0.0  \n",
      "22:51219006         0.0         0.0  \n",
      "\n",
      "[1054151 rows x 504 columns]\n"
     ]
    },
    {
     "name": "stderr",
     "output_type": "stream",
     "text": [
      "admix.data.geno_mult_mat: 100%|██████████| 1030/1030 [18:37<00:00,  1.08s/it]\n"
     ]
    }
   ],
   "source": [
    "weights_dir = f\"out/PRS-WEIGHTS/{prefix}\"\n",
    "pred_dir = f\"out/PRS/{prefix}\"\n",
    "\n",
    "if not os.path.exists(pred_dir):\n",
    "    os.makedirs(pred_dir)\n",
    "\n",
    "df_weights = (\n",
    "    pd.read_csv(join(weights_dir, f\"sim_{sim_i}.weight.tsv.gz\"), sep=\"\\t\")\n",
    "    .rename(columns={\"CHR\": \"CHROM\", \"A1\": \"ALT\", \"A2\": \"REF\"})\n",
    "    .set_index(\"SNP\")\n",
    ")\n",
    "df_pred = admix_prs.calc_prs(TEST_BFILE, df_weights)"
   ]
  },
  {
   "cell_type": "code",
   "execution_count": 10,
   "id": "712aac38-5b63-474f-a240-eeed12e5e01a",
   "metadata": {},
   "outputs": [],
   "source": [
    "def submit_predict(prefix, sim_i):\n",
    "    weights_dir = f\"out/PRS-WEIGHTS/{prefix}\"\n",
    "    pred_dir = f\"out/PRS/{prefix}\"\n",
    "\n",
    "    if not os.path.exists(pred_dir):\n",
    "        os.makedirs(pred_dir)\n",
    "\n",
    "    df_weights = (\n",
    "        pd.read_csv(join(weights_dir, f\"sim_{sim_i}.weight.tsv.gz\"), sep=\"\\t\")\n",
    "        .rename(columns={\"CHR\": \"CHROM\", \"A1\": \"ALT\", \"A2\": \"REF\"})\n",
    "        .set_index(\"SNP\")\n",
    "    )\n",
    "    df_pred = admix_prs.calc_prs(TEST_BFILE, df_weights)\n",
    "    df_pred.to_csv(join(pred_dir, f\"sim_{sim_i}.prs.tsv.gz\"), sep=\"\\t\")\n",
    "\n",
    "\n",
    "import submitit\n",
    "\n",
    "executor = submitit.SgeExecutor(folder=\"./submitit-logs\")\n",
    "\n",
    "executor.update_parameters(\n",
    "    time_min=70,\n",
    "    memory_g=20,\n",
    "    setup=[\n",
    "        \"export PATH=~/project-pasaniuc/software/miniconda3/bin:$PATH\",\n",
    "        \"export PYTHONNOUSERSITE=True\",\n",
    "    ],\n",
    ")\n",
    "\n",
    "jobs = executor.map_array(submit_predict, [prefix] * 10, np.arange(10))"
   ]
  },
  {
   "cell_type": "code",
   "execution_count": 62,
   "id": "7dd0c95d-e623-440b-bc71-d0ef4af045a2",
   "metadata": {},
   "outputs": [],
   "source": [
    "sim_i = 2"
   ]
  },
  {
   "cell_type": "code",
   "execution_count": 63,
   "id": "c115d40c-e53d-47ac-b0c8-f1f9537b4abe",
   "metadata": {},
   "outputs": [],
   "source": [
    "SIM_DIR = f\"../01-simulate-pheno/out/PHENO/{prefix}\""
   ]
  },
  {
   "cell_type": "code",
   "execution_count": 64,
   "id": "9edb9653-e066-40f8-8273-39a44382d948",
   "metadata": {},
   "outputs": [],
   "source": [
    "# read PRS\n",
    "df_prs = pd.read_csv(\n",
    "    f\"out/PRS-WEIGHTS/{prefix}/sim_{sim_i}.test_prs.tsv.gz\", sep=\"\\t\", index_col=0\n",
    ")\n",
    "# read genetic value and phenotype\n",
    "df_pheno_g = (\n",
    "    pd.read_csv(\n",
    "        join(f\"{SIM_DIR}/sim.pheno_g.tsv.gz\"),\n",
    "        sep=\"\\t\",\n",
    "        index_col=0,\n",
    "    )[[f\"SIM_{sim_i}\"]]\n",
    "    .rename(columns={f\"SIM_{sim_i}\": \"GV\"})\n",
    "    .reindex(df_prs.index)\n",
    ")\n",
    "df_pheno = (\n",
    "    pd.read_csv(join(f\"{SIM_DIR}/sim.pheno.tsv.gz\"), sep=\"\\t\", index_col=0)[\n",
    "        [f\"SIM_{sim_i}\"]\n",
    "    ]\n",
    "    .rename(columns={f\"SIM_{sim_i}\": \"PHENO\"})\n",
    "    .reindex(df_prs.index)\n",
    ")\n",
    "df_prs = pd.concat([df_pheno, df_pheno_g, df_prs], axis=1)"
   ]
  },
  {
   "cell_type": "code",
   "execution_count": 65,
   "id": "079d189a-0e3d-4b57-808c-3ae4d6c1f320",
   "metadata": {},
   "outputs": [],
   "source": [
    "import seaborn as sns"
   ]
  },
  {
   "cell_type": "code",
   "execution_count": 66,
   "id": "a174a2bf-f2b5-4a15-aa89-a62191817d5b",
   "metadata": {},
   "outputs": [],
   "source": [
    "df_pred = df_prs[[f\"SAMPLE_{i}\" for i in range(1, 501)]]\n",
    "\n",
    "pred_interval = np.quantile(df_pred, q=[0.1, 0.9], axis=1)"
   ]
  },
  {
   "cell_type": "code",
   "execution_count": 67,
   "id": "0f335403-56ee-4e16-9beb-b989435aa9df",
   "metadata": {},
   "outputs": [],
   "source": [
    "intercept = (df_prs.MEAN - df_prs.GV).mean()\n",
    "df_plot = pd.DataFrame(\n",
    "    {\n",
    "        \"GV\": df_prs.GV,\n",
    "        \"MEAN\": df_prs.MEAN - intercept,\n",
    "        \"LOWER\": pred_interval[0, :] - intercept,\n",
    "        \"UPPER\": pred_interval[1, :] - intercept,\n",
    "    }\n",
    ")"
   ]
  },
  {
   "cell_type": "code",
   "execution_count": 68,
   "id": "4f21240f-3f5f-4eb4-bb0d-ef10db96afbc",
   "metadata": {},
   "outputs": [
    {
     "data": {
      "text/plain": [
       "0.08569548253654867"
      ]
     },
     "execution_count": 68,
     "metadata": {},
     "output_type": "execute_result"
    }
   ],
   "source": [
    "np.mean(df_plot.GV <= df_plot.LOWER)"
   ]
  },
  {
   "cell_type": "code",
   "execution_count": 69,
   "id": "6b92d19d-7cd5-4e33-8599-bd9a5248f723",
   "metadata": {},
   "outputs": [
    {
     "data": {
      "text/plain": [
       "0.9126122314671179"
      ]
     },
     "execution_count": 69,
     "metadata": {},
     "output_type": "execute_result"
    }
   ],
   "source": [
    "np.mean(df_plot.GV <= df_plot.UPPER)"
   ]
  },
  {
   "cell_type": "code",
   "execution_count": 60,
   "id": "09d0edde-bb70-49cb-aa3c-e2e27cbf2e08",
   "metadata": {},
   "outputs": [
    {
     "name": "stderr",
     "output_type": "stream",
     "text": [
      "/u/project/pasaniuc/kangchen/software/miniconda3/lib/python3.8/site-packages/statsmodels/tsa/tsatools.py:142: FutureWarning: In a future version of pandas all arguments of concat except for the argument 'objs' will be keyword-only\n",
      "  x = pd.concat(x[::order], 1)\n"
     ]
    },
    {
     "data": {
      "text/html": [
       "<table class=\"simpletable\">\n",
       "<caption>OLS Regression Results</caption>\n",
       "<tr>\n",
       "  <th>Dep. Variable:</th>           <td>GV</td>        <th>  R-squared:         </th> <td>   0.608</td> \n",
       "</tr>\n",
       "<tr>\n",
       "  <th>Model:</th>                   <td>OLS</td>       <th>  Adj. R-squared:    </th> <td>   0.608</td> \n",
       "</tr>\n",
       "<tr>\n",
       "  <th>Method:</th>             <td>Least Squares</td>  <th>  F-statistic:       </th> <td>3.296e+04</td>\n",
       "</tr>\n",
       "<tr>\n",
       "  <th>Date:</th>             <td>Sun, 21 Nov 2021</td> <th>  Prob (F-statistic):</th>  <td>  0.00</td>  \n",
       "</tr>\n",
       "<tr>\n",
       "  <th>Time:</th>                 <td>10:09:23</td>     <th>  Log-Likelihood:    </th> <td> -5315.9</td> \n",
       "</tr>\n",
       "<tr>\n",
       "  <th>No. Observations:</th>      <td> 21273</td>      <th>  AIC:               </th> <td>1.064e+04</td>\n",
       "</tr>\n",
       "<tr>\n",
       "  <th>Df Residuals:</th>          <td> 21271</td>      <th>  BIC:               </th> <td>1.065e+04</td>\n",
       "</tr>\n",
       "<tr>\n",
       "  <th>Df Model:</th>              <td>     1</td>      <th>                     </th>     <td> </td>    \n",
       "</tr>\n",
       "<tr>\n",
       "  <th>Covariance Type:</th>      <td>nonrobust</td>    <th>                     </th>     <td> </td>    \n",
       "</tr>\n",
       "</table>\n",
       "<table class=\"simpletable\">\n",
       "<tr>\n",
       "    <td></td>       <th>coef</th>     <th>std err</th>      <th>t</th>      <th>P>|t|</th>  <th>[0.025</th>    <th>0.975]</th>  \n",
       "</tr>\n",
       "<tr>\n",
       "  <th>const</th> <td>   -0.0372</td> <td>    0.002</td> <td>  -17.049</td> <td> 0.000</td> <td>   -0.041</td> <td>   -0.033</td>\n",
       "</tr>\n",
       "<tr>\n",
       "  <th>MEAN</th>  <td>    0.9683</td> <td>    0.005</td> <td>  181.544</td> <td> 0.000</td> <td>    0.958</td> <td>    0.979</td>\n",
       "</tr>\n",
       "</table>\n",
       "<table class=\"simpletable\">\n",
       "<tr>\n",
       "  <th>Omnibus:</th>       <td>14.135</td> <th>  Durbin-Watson:     </th> <td>   2.001</td>\n",
       "</tr>\n",
       "<tr>\n",
       "  <th>Prob(Omnibus):</th> <td> 0.001</td> <th>  Jarque-Bera (JB):  </th> <td>  14.745</td>\n",
       "</tr>\n",
       "<tr>\n",
       "  <th>Skew:</th>          <td> 0.042</td> <th>  Prob(JB):          </th> <td>0.000628</td>\n",
       "</tr>\n",
       "<tr>\n",
       "  <th>Kurtosis:</th>      <td> 3.097</td> <th>  Cond. No.          </th> <td>    2.53</td>\n",
       "</tr>\n",
       "</table><br/><br/>Notes:<br/>[1] Standard Errors assume that the covariance matrix of the errors is correctly specified."
      ],
      "text/plain": [
       "<class 'statsmodels.iolib.summary.Summary'>\n",
       "\"\"\"\n",
       "                            OLS Regression Results                            \n",
       "==============================================================================\n",
       "Dep. Variable:                     GV   R-squared:                       0.608\n",
       "Model:                            OLS   Adj. R-squared:                  0.608\n",
       "Method:                 Least Squares   F-statistic:                 3.296e+04\n",
       "Date:                Sun, 21 Nov 2021   Prob (F-statistic):               0.00\n",
       "Time:                        10:09:23   Log-Likelihood:                -5315.9\n",
       "No. Observations:               21273   AIC:                         1.064e+04\n",
       "Df Residuals:                   21271   BIC:                         1.065e+04\n",
       "Df Model:                           1                                         \n",
       "Covariance Type:            nonrobust                                         \n",
       "==============================================================================\n",
       "                 coef    std err          t      P>|t|      [0.025      0.975]\n",
       "------------------------------------------------------------------------------\n",
       "const         -0.0372      0.002    -17.049      0.000      -0.041      -0.033\n",
       "MEAN           0.9683      0.005    181.544      0.000       0.958       0.979\n",
       "==============================================================================\n",
       "Omnibus:                       14.135   Durbin-Watson:                   2.001\n",
       "Prob(Omnibus):                  0.001   Jarque-Bera (JB):               14.745\n",
       "Skew:                           0.042   Prob(JB):                     0.000628\n",
       "Kurtosis:                       3.097   Cond. No.                         2.53\n",
       "==============================================================================\n",
       "\n",
       "Notes:\n",
       "[1] Standard Errors assume that the covariance matrix of the errors is correctly specified.\n",
       "\"\"\""
      ]
     },
     "execution_count": 60,
     "metadata": {},
     "output_type": "execute_result"
    }
   ],
   "source": [
    "sm.OLS(df_prs.GV, sm.add_constant(df_prs.MEAN)).fit().summary()"
   ]
  }
 ],
 "metadata": {
  "kernelspec": {
   "display_name": "Python 3",
   "language": "python",
   "name": "python3"
  },
  "language_info": {
   "codemirror_mode": {
    "name": "ipython",
    "version": 3
   },
   "file_extension": ".py",
   "mimetype": "text/x-python",
   "name": "python",
   "nbconvert_exporter": "python",
   "pygments_lexer": "ipython3",
   "version": "3.8.5"
  }
 },
 "nbformat": 4,
 "nbformat_minor": 5
}
